{
  "cells": [
    {
      "cell_type": "code",
      "execution_count": null,
      "metadata": {
        "colab": {
          "base_uri": "https://localhost:8080/"
        },
        "id": "b5-CXVNsqHnE",
        "outputId": "f2f17a93-9f40-41e9-9eec-8189d32feac1"
      },
      "outputs": [
        {
          "output_type": "stream",
          "name": "stdout",
          "text": [
            "Requirement already satisfied: mne in /usr/local/lib/python3.10/dist-packages (1.5.0)\n",
            "Requirement already satisfied: numpy>=1.15.4 in /usr/local/lib/python3.10/dist-packages (from mne) (1.23.5)\n",
            "Requirement already satisfied: scipy>=1.6.3 in /usr/local/lib/python3.10/dist-packages (from mne) (1.10.1)\n",
            "Requirement already satisfied: matplotlib>=3.4.0 in /usr/local/lib/python3.10/dist-packages (from mne) (3.7.1)\n",
            "Requirement already satisfied: tqdm in /usr/local/lib/python3.10/dist-packages (from mne) (4.66.1)\n",
            "Requirement already satisfied: pooch>=1.5 in /usr/local/lib/python3.10/dist-packages (from mne) (1.7.0)\n",
            "Requirement already satisfied: decorator in /usr/local/lib/python3.10/dist-packages (from mne) (4.4.2)\n",
            "Requirement already satisfied: packaging in /usr/local/lib/python3.10/dist-packages (from mne) (23.1)\n",
            "Requirement already satisfied: jinja2 in /usr/local/lib/python3.10/dist-packages (from mne) (3.1.2)\n",
            "Requirement already satisfied: contourpy>=1.0.1 in /usr/local/lib/python3.10/dist-packages (from matplotlib>=3.4.0->mne) (1.1.0)\n",
            "Requirement already satisfied: cycler>=0.10 in /usr/local/lib/python3.10/dist-packages (from matplotlib>=3.4.0->mne) (0.11.0)\n",
            "Requirement already satisfied: fonttools>=4.22.0 in /usr/local/lib/python3.10/dist-packages (from matplotlib>=3.4.0->mne) (4.42.1)\n",
            "Requirement already satisfied: kiwisolver>=1.0.1 in /usr/local/lib/python3.10/dist-packages (from matplotlib>=3.4.0->mne) (1.4.4)\n",
            "Requirement already satisfied: pillow>=6.2.0 in /usr/local/lib/python3.10/dist-packages (from matplotlib>=3.4.0->mne) (9.4.0)\n",
            "Requirement already satisfied: pyparsing>=2.3.1 in /usr/local/lib/python3.10/dist-packages (from matplotlib>=3.4.0->mne) (3.1.1)\n",
            "Requirement already satisfied: python-dateutil>=2.7 in /usr/local/lib/python3.10/dist-packages (from matplotlib>=3.4.0->mne) (2.8.2)\n",
            "Requirement already satisfied: platformdirs>=2.5.0 in /usr/local/lib/python3.10/dist-packages (from pooch>=1.5->mne) (3.10.0)\n",
            "Requirement already satisfied: requests>=2.19.0 in /usr/local/lib/python3.10/dist-packages (from pooch>=1.5->mne) (2.31.0)\n",
            "Requirement already satisfied: MarkupSafe>=2.0 in /usr/local/lib/python3.10/dist-packages (from jinja2->mne) (2.1.3)\n",
            "Requirement already satisfied: six>=1.5 in /usr/local/lib/python3.10/dist-packages (from python-dateutil>=2.7->matplotlib>=3.4.0->mne) (1.16.0)\n",
            "Requirement already satisfied: charset-normalizer<4,>=2 in /usr/local/lib/python3.10/dist-packages (from requests>=2.19.0->pooch>=1.5->mne) (3.2.0)\n",
            "Requirement already satisfied: idna<4,>=2.5 in /usr/local/lib/python3.10/dist-packages (from requests>=2.19.0->pooch>=1.5->mne) (3.4)\n",
            "Requirement already satisfied: urllib3<3,>=1.21.1 in /usr/local/lib/python3.10/dist-packages (from requests>=2.19.0->pooch>=1.5->mne) (2.0.4)\n",
            "Requirement already satisfied: certifi>=2017.4.17 in /usr/local/lib/python3.10/dist-packages (from requests>=2.19.0->pooch>=1.5->mne) (2023.7.22)\n"
          ]
        }
      ],
      "source": [
        "!pip install mne"
      ]
    },
    {
      "cell_type": "code",
      "execution_count": null,
      "metadata": {
        "id": "uQuGMGivR4QF"
      },
      "outputs": [],
      "source": []
    },
    {
      "cell_type": "code",
      "execution_count": null,
      "metadata": {
        "colab": {
          "base_uri": "https://localhost:8080/"
        },
        "id": "oze5_OENYe8r",
        "outputId": "af07e45a-737f-445d-d5be-54e399ebb0cc"
      },
      "outputs": [
        {
          "output_type": "stream",
          "name": "stdout",
          "text": [
            "Drive already mounted at /content/drive; to attempt to forcibly remount, call drive.mount(\"/content/drive\", force_remount=True).\n"
          ]
        }
      ],
      "source": [
        "from google.colab import drive\n",
        "drive.mount('/content/drive')"
      ]
    },
    {
      "cell_type": "code",
      "execution_count": null,
      "metadata": {
        "id": "b058KJ5VYiUc"
      },
      "outputs": [],
      "source": [
        "import mne\n",
        "import matplotlib.pyplot as plt\n",
        "import pandas as pd\n",
        "import os\n",
        "import numpy as np\n",
        "import seaborn as sns\n",
        "import csv"
      ]
    },
    {
      "cell_type": "code",
      "execution_count": null,
      "metadata": {
        "id": "M_H5tfq9YuFq"
      },
      "outputs": [],
      "source": [
        "from sklearn.decomposition import PCA\n",
        "from mne.time_frequency import psd_array_welch\n",
        "from mne.filter import filter_data"
      ]
    },
    {
      "cell_type": "code",
      "execution_count": null,
      "metadata": {
        "colab": {
          "base_uri": "https://localhost:8080/"
        },
        "id": "YvI6kIyAYlKQ",
        "outputId": "75a28bea-9c81-40b9-c236-88354800b575"
      },
      "outputs": [
        {
          "output_type": "stream",
          "name": "stdout",
          "text": [
            "17_Bha_segregated_eeg_data_Pigeon-Chicco_Pigeon_not_preferred.csv\n",
            "17_Bha_segregated_eeg_data_Colgate-Mamaearth_Colgate_not_preferred.csv\n",
            "17_Bha_segregated_eeg_data_Colgate-Mamaearth_Mamaearth_preferred.csv\n",
            "17_Bha_segregated_eeg_data_Colgate-Mamaearth_Colgate_preferred.csv\n",
            "17_Bha_segregated_eeg_data_Colgate-Mamaearth_Mamaearth_not_preferred.csv\n",
            "17_Bha_segregated_eeg_data_Pigeon-Chicco_Pigeon_preferred.csv\n",
            "17_Bha_segregated_eeg_data_Pigeon-Chicco_Chicco_not_preferred.csv\n",
            "17_Bha_segregated_eeg_data_Mamaearth-Colgate_Colgate_not_preferred.csv\n",
            "17_Bha_segregated_eeg_data_Pigeon-Chicco_Chicco_preferred.csv\n",
            "17_Bha_segregated_eeg_data_Colgate-Pigeon_Colgate_preferred.csv\n",
            "17_Bha_segregated_eeg_data_Mamaearth-Colgate_Mamaearth_preferred.csv\n",
            "17_Bha_segregated_eeg_data_Mamaearth-Colgate_Colgate_preferred.csv\n",
            "17_Bha_segregated_eeg_data_Mamaearth-Colgate_Mamaearth_not_preferred.csv\n",
            "17_Bha_segregated_eeg_data_Colgate-Pigeon_Pigeon_not_preferred.csv\n",
            "17_Bha_segregated_eeg_data_Colgate-Chicco_Colgate_preferred.csv\n",
            "17_Bha_segregated_eeg_data_Colgate-Pigeon_Pigeon_preferred.csv\n",
            "17_Bha_segregated_eeg_data_Colgate-Chicco_Chicco_not_preferred.csv\n",
            "17_Bha_segregated_eeg_data_Mamaearth-Chicco_Mamaearth_preferred.csv\n",
            "17_Bha_segregated_eeg_data_Colgate-Chicco_Chicco_preferred.csv\n",
            "17_Bha_segregated_eeg_data_Colgate-Chicco_Colgate_not_preferred.csv\n",
            "17_Bha_segregated_eeg_data_Colgate-Pigeon_Colgate_not_preferred.csv\n",
            "17_Bha_segregated_eeg_data_Mamaearth-Chicco_Chicco_not_preferred.csv\n",
            "17_Bha_segregated_eeg_data_Chicco-Pigeon_Pigeon_not_preferred.csv\n",
            "17_Bha_segregated_eeg_data_Mamaearth-Chicco_Chicco_preferred.csv\n",
            "17_Bha_segregated_eeg_data_Chicco-Pigeon_Chicco_not_preferred.csv\n",
            "17_Bha_segregated_eeg_data_Chicco-Pigeon_Pigeon_preferred.csv\n",
            "17_Bha_segregated_eeg_data_Mamaearth-Chicco_Mamaearth_not_preferred.csv\n",
            "17_Bha_segregated_eeg_data_Chicco-Pigeon_Chicco_preferred.csv\n",
            "17_Bha_segregated_eeg_data_Chicco-Colgate_Chicco_not_preferred.csv\n",
            "17_Bha_segregated_eeg_data_Chicco-Colgate_Colgate_not_preferred.csv\n",
            "17_Bha_segregated_eeg_data_Chicco-Colgate_Chicco_preferred.csv\n",
            "17_Bha_segregated_eeg_data_Mamaearth-Pigeon_Pigeon_not_preferred.csv\n",
            "17_Bha_segregated_eeg_data_Chicco-Colgate_Colgate_preferred.csv\n",
            "17_Bha_segregated_eeg_data_Mamaearth-Pigeon_Mamaearth_preferred.csv\n",
            "17_Bha_segregated_eeg_data_Chicco-Mamaearth_Chicco_preferred.csv\n",
            "17_Bha_segregated_eeg_data_Chicco-Mamaearth_Mamaearth_not_preferred.csv\n",
            "17_Bha_segregated_eeg_data_Chicco-Mamaearth_Mamaearth_preferred.csv\n",
            "17_Bha_segregated_eeg_data_Mamaearth-Pigeon_Pigeon_preferred.csv\n",
            "17_Bha_segregated_eeg_data_Chicco-Mamaearth_Chicco_not_preferred.csv\n",
            "17_Bha_segregated_eeg_data_Mamaearth-Pigeon_Mamaearth_not_preferred.csv\n",
            "17_Bha_segregated_eeg_data_Pigeon-Mamaearth_Mamaearth_preferred.csv\n",
            "17_Bha_segregated_eeg_data_Pigeon-Colgate_Colgate_preferred.csv\n",
            "17_Bha_segregated_eeg_data_Pigeon-Mamaearth_Pigeon_preferred.csv\n",
            "17_Bha_segregated_eeg_data_Pigeon-Colgate_Colgate_not_preferred.csv\n",
            "17_Bha_segregated_eeg_data_Pigeon-Mamaearth_Pigeon_not_preferred.csv\n",
            "17_Bha_segregated_eeg_data_Pigeon-Colgate_Pigeon_preferred.csv\n",
            "17_Bha_segregated_eeg_data_Pigeon-Mamaearth_Mamaearth_not_preferred.csv\n",
            "17_Bha_segregated_eeg_data_Pigeon-Colgate_Pigeon_not_preferred.csv\n"
          ]
        }
      ],
      "source": [
        "def myfunction(data):\n",
        "  print(data)\n",
        "file_path = '/content/drive/MyDrive/Preferred_NotPreferred separated/17_Bha_segregated_eeg_data_arranged_data'\n",
        "\n",
        "files = []\n",
        "for file in os.listdir(file_path):\n",
        "  if file.endswith(\".csv\"):\n",
        "    myfunction(file)\n",
        "    files.append(file)"
      ]
    },
    {
      "cell_type": "code",
      "execution_count": null,
      "metadata": {
        "id": "8SntKiAQ0lYt",
        "colab": {
          "base_uri": "https://localhost:8080/"
        },
        "outputId": "9c1b62f0-d693-4668-98cb-3416b3d6d33d"
      },
      "outputs": [
        {
          "output_type": "stream",
          "name": "stdout",
          "text": [
            "48\n"
          ]
        }
      ],
      "source": [
        "print(len(files))"
      ]
    },
    {
      "cell_type": "code",
      "execution_count": null,
      "metadata": {
        "id": "WKYfyO3PYpSJ",
        "colab": {
          "base_uri": "https://localhost:8080/"
        },
        "outputId": "2bdd8950-25ac-47d8-f410-a6db13c58827"
      },
      "outputs": [
        {
          "output_type": "stream",
          "name": "stdout",
          "text": [
            "17_Bha_segregated_eeg_data_Pigeon-Colgate_Pigeon_not_preferred.csv\n",
            "      Unnamed: 0  timestamp_42     o1_42      o2_42  o1_normalized_42  \\\n",
            "0              0  1.675576e+09 -6.120301 -12.120693         -6.117986   \n",
            "1              1  1.675576e+09 -3.735899  -9.883764         -3.733584   \n",
            "2              2  1.675576e+09 -0.843358  -4.106778         -0.841043   \n",
            "3              3  1.675576e+09  1.541819   2.956622          1.544134   \n",
            "4              4  1.675576e+09  3.126852   8.304114          3.129167   \n",
            "...          ...           ...       ...        ...               ...   \n",
            "1159        1159  1.675576e+09 -0.283426  -1.104569         -0.281111   \n",
            "1160        1160  1.675576e+09 -0.725899  -0.906391         -0.723584   \n",
            "1161        1161  1.675576e+09 -1.284646  -0.972443         -1.282330   \n",
            "1162        1162  1.675576e+09 -1.567334  -1.157096         -1.565019   \n",
            "1163        1163  1.675576e+09 -1.756194  -1.755862         -1.753879   \n",
            "\n",
            "      o2_normalized_42  timestamp_54     o1_54     o2_54  o1_normalized_54  \\\n",
            "0           -12.175990  1.675576e+09  0.379336 -5.073359         -0.158071   \n",
            "1            -9.939061  1.675576e+09 -1.224386 -6.672960         -1.761793   \n",
            "2            -4.162075  1.675576e+09  0.155068 -7.554454         -0.382338   \n",
            "3             2.901325  1.675576e+09  2.403146 -6.603368          1.865739   \n",
            "4             8.248817  1.675576e+09  1.863622 -5.996423          1.326215   \n",
            "...                ...           ...       ...       ...               ...   \n",
            "1159         -1.159866           NaN       NaN       NaN               NaN   \n",
            "1160         -0.961688           NaN       NaN       NaN               NaN   \n",
            "1161         -1.027740           NaN       NaN       NaN               NaN   \n",
            "1162         -1.212393           NaN       NaN       NaN               NaN   \n",
            "1163         -1.811159           NaN       NaN       NaN               NaN   \n",
            "\n",
            "      ...     o1_718     o2_718  o1_normalized_718  o2_normalized_718  \\\n",
            "0     ...  11.252008  12.530762          11.349342          12.682484   \n",
            "1     ...   8.864346  10.739022           8.961681          10.890744   \n",
            "2     ...   9.276899   9.331935           9.374234           9.483657   \n",
            "3     ...  11.386237   8.802136          11.483572           8.953858   \n",
            "4     ...  11.849011   7.850813          11.946345           8.002535   \n",
            "...   ...        ...        ...                ...                ...   \n",
            "1159  ...  -1.345338  -1.549339          -1.248004          -1.397617   \n",
            "1160  ...  -1.915639  -0.173702          -1.818304          -0.021981   \n",
            "1161  ...  -2.350879  -0.116795          -2.253544           0.034927   \n",
            "1162  ...  -2.086043  -1.519629          -1.988708          -1.367907   \n",
            "1163  ...  -1.222313  -4.031053          -1.124978          -3.879331   \n",
            "\n",
            "       frequency  o1_normalized_mean  o2_normalized_mean  frequency_interval  \\\n",
            "0        0.00000           -2.302147           -3.528241             (0, 40)   \n",
            "1        3.90625           -0.662693           -1.685467            (40, 80)   \n",
            "2        7.81250            1.470749            0.721552           (80, 120)   \n",
            "3       11.71875            3.864576            3.374721          (120, 160)   \n",
            "4       15.62500            5.821788            5.484066          (160, 200)   \n",
            "...          ...                 ...                 ...                 ...   \n",
            "1159  4527.34375            3.392169            2.927203                 NaN   \n",
            "1160  4531.25000            4.381186            3.979345                 NaN   \n",
            "1161  4535.15625            4.575701            4.074656                 NaN   \n",
            "1162  4539.06250            4.253611            3.634224                 NaN   \n",
            "1163  4542.96875            3.504249            2.793737                 NaN   \n",
            "\n",
            "      o1_normalized_mean_min  o2_normalized_mean_min  \n",
            "0                  -2.302147               -3.528241  \n",
            "1                   0.231619                0.802279  \n",
            "2                   0.289751               -0.039455  \n",
            "3                  -0.839571               -1.594050  \n",
            "4                   0.079843               -0.058607  \n",
            "...                      ...                     ...  \n",
            "1159                     NaN                     NaN  \n",
            "1160                     NaN                     NaN  \n",
            "1161                     NaN                     NaN  \n",
            "1162                     NaN                     NaN  \n",
            "1163                     NaN                     NaN  \n",
            "\n",
            "[1164 rows x 122 columns]\n"
          ]
        }
      ],
      "source": [
        "print(files[47])\n",
        "word = files[47]\n",
        "df = pd.read_csv(file_path + '/' + word)\n",
        "print(df)"
      ]
    },
    {
      "cell_type": "code",
      "execution_count": null,
      "metadata": {
        "id": "8-0OFTH83FqS",
        "colab": {
          "base_uri": "https://localhost:8080/"
        },
        "outputId": "c0ed2013-2c40-49a3-ab67-ddcf17328672"
      },
      "outputs": [
        {
          "output_type": "stream",
          "name": "stdout",
          "text": [
            "17_Bha_segregated_eeg_data_Pigeon-Colgate_Pigeon_not_preferred.csv\n"
          ]
        }
      ],
      "source": [
        "print(word)"
      ]
    },
    {
      "cell_type": "code",
      "execution_count": null,
      "metadata": {
        "id": "oH_JoHNzZIk5"
      },
      "outputs": [],
      "source": [
        "count = 0\n",
        "result = {}"
      ]
    },
    {
      "cell_type": "code",
      "execution_count": null,
      "metadata": {
        "id": "8VDYZx0oQZ5_",
        "colab": {
          "base_uri": "https://localhost:8080/"
        },
        "outputId": "aa62c0f9-85aa-49ec-bad5-cb7113e7600e"
      },
      "outputs": [
        {
          "output_type": "stream",
          "name": "stdout",
          "text": [
            "Setting up band-pass filter from 0.5 - 40 Hz\n",
            "\n",
            "FIR filter parameters\n",
            "---------------------\n",
            "Designing a one-pass, zero-phase, non-causal bandpass filter:\n",
            "- Windowed time-domain design (firwin) method\n",
            "- Hamming window with 0.0194 passband ripple and 53 dB stopband attenuation\n",
            "- Lower passband edge: 0.50\n",
            "- Lower transition bandwidth: 0.50 Hz (-6 dB cutoff frequency: 0.25 Hz)\n",
            "- Upper passband edge: 40.00 Hz\n",
            "- Upper transition bandwidth: 10.00 Hz (-6 dB cutoff frequency: 45.00 Hz)\n",
            "- Filter length: 1691 samples (6.605 s)\n",
            "\n"
          ]
        },
        {
          "output_type": "stream",
          "name": "stderr",
          "text": [
            "<ipython-input-6156-13f75e8839e0>:5: RuntimeWarning: filter_length (1691) is longer than the signal (2), distortion is likely. Reduce filter length or filter a longer signal.\n",
            "  pca_data = filter_data(pca_data, sfreq=256, l_freq = 0.5, h_freq = 40)\n",
            "[Parallel(n_jobs=1)]: Done  17 tasks      | elapsed:    0.0s\n",
            "[Parallel(n_jobs=1)]: Done  71 tasks      | elapsed:    0.0s\n"
          ]
        }
      ],
      "source": [
        "X = df.loc[:130,['o1_normalized_mean', 'o2_normalized_mean']]\n",
        "pca = PCA(n_components=2)\n",
        "Y = pca.fit(X)\n",
        "pca_data = pca.fit_transform(X)\n",
        "pca_data = filter_data(pca_data, sfreq=256, l_freq = 0.5, h_freq = 40)"
      ]
    },
    {
      "cell_type": "code",
      "execution_count": null,
      "metadata": {
        "id": "6VhlUTZZSXBe",
        "colab": {
          "base_uri": "https://localhost:8080/"
        },
        "outputId": "23ce8481-6fff-4ee1-be76-c7eb007f12a8"
      },
      "outputs": [
        {
          "output_type": "stream",
          "name": "stdout",
          "text": [
            "[[-4.22725331 -1.77215749]\n",
            " [-2.26862569 -1.10191746]\n",
            " [ 0.28686384 -0.22323386]\n",
            " [ 3.1187634   0.72832156]\n",
            " [ 5.38951212  1.46308697]\n",
            " [ 6.71133049  1.89548183]\n",
            " [ 6.96336238  2.08841772]\n",
            " [ 6.37891448  2.07378201]\n",
            " [ 5.72341502  1.96940961]\n",
            " [ 5.28765519  1.74835337]\n",
            " [ 4.58599662  1.36186433]\n",
            " [ 3.45926554  0.95007126]\n",
            " [ 1.94734511  0.67901536]\n",
            " [ 0.80203083  0.61934749]\n",
            " [ 0.14945065  0.57097779]\n",
            " [ 0.09613373  0.40294408]\n",
            " [ 0.1534516   0.05306379]\n",
            " [ 0.47052211 -0.23121086]\n",
            " [ 0.72517653 -0.32918773]\n",
            " [ 1.00872216 -0.12996668]\n",
            " [ 1.324785    0.26623892]\n",
            " [ 1.67686761  0.67638017]\n",
            " [ 2.02026199  0.86006187]\n",
            " [ 2.02153637  0.72000814]\n",
            " [ 2.22706843  0.55792897]\n",
            " [ 2.58451444  0.59160125]\n",
            " [ 2.87547225  0.80532348]\n",
            " [ 2.82835079  0.97216432]\n",
            " [ 2.16912901  0.81293487]\n",
            " [ 0.8509007   0.31763575]\n",
            " [-0.70200029 -0.29724486]\n",
            " [-1.86426778 -0.77940637]\n",
            " [-2.24906045 -0.98125533]\n",
            " [-2.06891957 -0.98567651]\n",
            " [-2.03033843 -0.93189658]\n",
            " [-1.90946167 -0.68801725]\n",
            " [-1.60945298 -0.35217861]\n",
            " [-1.44143716 -0.16833154]\n",
            " [-1.05657659 -0.123163  ]\n",
            " [-0.52031012 -0.10399254]\n",
            " [ 0.09786475  0.0211536 ]\n",
            " [ 0.46521494  0.1420941 ]\n",
            " [ 0.24498078  0.11726181]\n",
            " [-0.40597789 -0.07525641]\n",
            " [-0.79124931 -0.22660566]\n",
            " [-0.68311627 -0.17826464]\n",
            " [ 0.08398571  0.11590904]\n",
            " [ 1.67462926  0.66832215]\n",
            " [ 3.3421508   1.22874108]\n",
            " [ 3.97823756  1.42941712]\n",
            " [ 3.43424496  1.24598734]\n",
            " [ 2.44412945  0.88982502]\n",
            " [ 1.52435551  0.57287139]\n",
            " [ 1.15179997  0.41340866]\n",
            " [ 1.1567613   0.29303794]\n",
            " [ 1.00443189  0.10360764]\n",
            " [ 0.50442008 -0.2119194 ]\n",
            " [-0.31038795 -0.49345461]\n",
            " [-1.07176075 -0.5470118 ]\n",
            " [-1.31999411 -0.2579346 ]\n",
            " [-0.98821011  0.1730192 ]\n",
            " [-0.23814318  0.48624294]\n",
            " [ 0.3514761   0.49168212]\n",
            " [ 0.22051386  0.16637621]\n",
            " [-0.03652896 -0.11637686]\n",
            " [-0.1178799  -0.19972558]\n",
            " [-0.13184711 -0.19757057]\n",
            " [ 0.29147423 -0.09372265]\n",
            " [ 1.39167152  0.19026674]\n",
            " [ 2.63257197  0.55521745]\n",
            " [ 3.77108186  1.00408872]\n",
            " [ 4.28574617  1.35974905]\n",
            " [ 4.03244642  1.5329874 ]\n",
            " [ 3.03263363  1.35388134]\n",
            " [ 1.93307187  0.9118762 ]\n",
            " [ 0.75662677  0.30479251]\n",
            " [-0.32767374 -0.20556825]\n",
            " [-0.85059424 -0.33311812]\n",
            " [-0.99687963 -0.14721263]\n",
            " [-1.13251486  0.0505911 ]\n",
            " [-1.43331065  0.06481488]\n",
            " [-1.48167062 -0.08985392]\n",
            " [-1.38117196 -0.321486  ]\n",
            " [-1.1778836  -0.43127954]\n",
            " [-0.92981809 -0.31997159]\n",
            " [-0.95062855 -0.19362223]\n",
            " [-0.69526679 -0.09148767]\n",
            " [ 0.08236798  0.0223922 ]\n",
            " [ 0.80962426  0.12542991]\n",
            " [ 1.22589833  0.23373576]\n",
            " [ 1.66744181  0.47173625]\n",
            " [ 1.86427471  0.64625219]\n",
            " [ 1.43160464  0.5235749 ]\n",
            " [ 0.50546128  0.16356489]\n",
            " [-0.20066091 -0.16828733]\n",
            " [-0.93168723 -0.41981233]\n",
            " [-1.30528559 -0.47759582]\n",
            " [-1.59625837 -0.52138694]\n",
            " [-1.7596965  -0.56283733]\n",
            " [-2.19368142 -0.78241722]\n",
            " [-2.79673604 -1.06437337]\n",
            " [-3.59549768 -1.29378975]\n",
            " [-4.55564488 -1.45076269]\n",
            " [-5.10333593 -1.49500093]\n",
            " [-5.28253445 -1.60256735]\n",
            " [-5.15225557 -1.82634862]\n",
            " [-4.79578489 -1.99485399]\n",
            " [-4.0689353  -1.78308858]\n",
            " [-3.06948562 -1.14287485]\n",
            " [-2.11606121 -0.43081594]\n",
            " [-1.49910716 -0.03057582]\n",
            " [-1.40453979 -0.18020481]\n",
            " [-1.59866088 -0.64581034]\n",
            " [-1.39734898 -0.91899672]\n",
            " [-0.85655105 -0.78573781]\n",
            " [-0.20012345 -0.37110503]\n",
            " [ 0.18019013  0.06416807]\n",
            " [-0.09592766  0.17355233]\n",
            " [-0.99610995 -0.09564939]\n",
            " [-1.87212582 -0.48788561]\n",
            " [-2.18312325 -0.62296572]\n",
            " [-2.0566474  -0.46904717]\n",
            " [-1.59181973 -0.16848205]\n",
            " [-1.17220128  0.04942552]\n",
            " [-1.04253855  0.0635843 ]\n",
            " [-1.59282481 -0.22677739]\n",
            " [-2.2191555  -0.6400878 ]\n",
            " [-2.92240732 -1.01230689]\n",
            " [-3.75606389 -1.31102696]\n",
            " [-4.45009479 -1.41762163]\n",
            " [-4.57905774 -1.27768044]]\n"
          ]
        }
      ],
      "source": [
        "print(pca_data)"
      ]
    },
    {
      "cell_type": "code",
      "execution_count": null,
      "metadata": {
        "id": "gbi_ssSYSfnv"
      },
      "outputs": [],
      "source": [
        "data_0 = []\n",
        "data_1 = []"
      ]
    },
    {
      "cell_type": "code",
      "execution_count": null,
      "metadata": {
        "id": "2LNXKmgISZkY"
      },
      "outputs": [],
      "source": [
        "for data in pca_data:\n",
        "  # print(data)\n",
        "  count = 0\n",
        "  for index in data:\n",
        "    if count == 0:\n",
        "      data_0.append(index)\n",
        "    else:\n",
        "      data_1.append(index)\n",
        "    count = count + 1\n"
      ]
    },
    {
      "cell_type": "code",
      "execution_count": null,
      "metadata": {
        "id": "UPKHYt9wS4tm",
        "colab": {
          "base_uri": "https://localhost:8080/"
        },
        "outputId": "c55a7655-329b-484d-8f0b-c8982be6befc"
      },
      "outputs": [
        {
          "output_type": "stream",
          "name": "stdout",
          "text": [
            "[-4.227253310427082, -2.268625688186227, 0.2868638389762539, 3.1187634016940864, 5.3895121200715295, 6.711330485821857, 6.963362379015681, 6.378914478200468, 5.723415021333012, 5.287655193519927, 4.585996619442638, 3.459265541306258, 1.9473451080809585, 0.802030828827237, 0.1494506518086061, 0.09613372976793769, 0.15345160285447706, 0.4705221090430719, 0.7251765334315241, 1.008722155298079, 1.3247849965199257, 1.6768676115984826, 2.020261993147554, 2.0215363688280266, 2.227068434322118, 2.5845144370510535, 2.875472253081092, 2.8283507922802733, 2.169129014936762, 0.8509006976847567, -0.7020002911562336, -1.8642677793739013, -2.2490604469992643, -2.0689195667644182, -2.0303384348419193, -1.9094616708752032, -1.6094529806092455, -1.4414371627349463, -1.0565765932777527, -0.5203101198669631, 0.09786474562937529, 0.4652149400446677, 0.2449807790015795, -0.40597788954313296, -0.7912493110764391, -0.683116270741214, 0.08398571445808535, 1.6746292615270348, 3.3421507956338683, 3.978237562288208, 3.434244960745887, 2.444129452917018, 1.5243555089728764, 1.151799967416577, 1.156761298776575, 1.0044318853122183, 0.5044200830986111, -0.3103879465077434, -1.0717607512846772, -1.3199941149915446, -0.9882101064616121, -0.2381431815267891, 0.35147609970058613, 0.22051385571738572, -0.03652895661819647, -0.11787989765792244, -0.13184711084801168, 0.29147423065059286, 1.391671519856672, 2.632571969328083, 3.771081862029378, 4.285746166925122, 4.0324464164239995, 3.0326336274895316, 1.9330718717540525, 0.7566267694729606, -0.3276737378174243, -0.8505942363416373, -0.9968796297925888, -1.132514860951221, -1.4333106549013859, -1.4816706170646001, -1.3811719635086637, -1.1778836007122668, -0.9298180930525329, -0.950628546469459, -0.6952667889816887, 0.08236797853708624, 0.809624264157608, 1.2258983341076979, 1.6674418138780318, 1.8642747122331926, 1.431604637124851, 0.5054612824850409, -0.2006609079590219, -0.9316872317550839, -1.3052855889271024, -1.5962583668026245, -1.759696498068106, -2.1936814214748748, -2.7967360378809567, -3.595497682171959, -4.555644878814589, -5.103335932286669, -5.282534452257274, -5.152255566176795, -4.795784889360298, -4.068935299135193, -3.0694856189635575, -2.11606120689049, -1.4991071609086979, -1.4045397934319854, -1.5986608785271215, -1.397348981598889, -0.8565510523288983, -0.20012345471615361, 0.18019013476540094, -0.0959276566852078, -0.9961099494417248, -1.8721258188627654, -2.183123248953921, -2.056647397131304, -1.5918197252149762, -1.1722012845876004, -1.0425385515866923, -1.5928248081740766, -2.2191555037015145, -2.9224073212209256, -3.7560638879631556, -4.45009479033613, -4.579057744143279]\n"
          ]
        }
      ],
      "source": [
        "print(data_0)"
      ]
    },
    {
      "cell_type": "code",
      "execution_count": null,
      "metadata": {
        "id": "aICO_31aTFgz",
        "colab": {
          "base_uri": "https://localhost:8080/"
        },
        "outputId": "40383f92-b510-41cf-e223-5c68ec2a0b7b"
      },
      "outputs": [
        {
          "output_type": "stream",
          "name": "stdout",
          "text": [
            "[-1.7721574906699478, -1.1019174605390971, -0.22323385501150686, 0.7283215595481278, 1.4630869654506669, 1.8954818348458777, 2.0884177217182054, 2.073782007481662, 1.9694096118040623, 1.7483533705845324, 1.3618643288252492, 0.9500712590828455, 0.6790153590369628, 0.619347491475637, 0.5709777899278193, 0.4029440836088022, 0.05306379003867847, -0.23121085999611252, -0.32918772827590115, -0.12996668034892533, 0.2662389164109275, 0.6763801670905993, 0.8600618687364754, 0.720008144943066, 0.5579289740635047, 0.5916012452804176, 0.8053234833678306, 0.9721643204244242, 0.8129348745628919, 0.317635751751836, -0.29724486204207723, -0.7794063728983646, -0.9812553339397235, -0.9856765077410196, -0.931896581681945, -0.6880172542544449, -0.35217860909941484, -0.16833154153226398, -0.12316300220730739, -0.10399254081493414, 0.02115359728621638, 0.14209409743360074, 0.11726181451638998, -0.07525641281277794, -0.22660565597210927, -0.17826464134977665, 0.11590904465553754, 0.6683221523038011, 1.2287410776479106, 1.42941712286053, 1.245987339555264, 0.8898250243158127, 0.5728713926956562, 0.4134086585527041, 0.2930379437522762, 0.10360764180522515, -0.2119193975052125, -0.4934546073183683, -0.5470118000645978, -0.25793460264121154, 0.17301920399018372, 0.48624294464350665, 0.4916821188310256, 0.16637621025885, -0.11637685560015638, -0.19972557960600923, -0.19757056795745356, -0.09372265429188567, 0.19026674189036655, 0.5552174530081068, 1.0040887205973592, 1.3597490533268717, 1.5329874048239214, 1.3538813409331207, 0.9118762027120569, 0.3047925086718007, -0.20556824986515984, -0.33311811719282763, -0.14721263424789732, 0.05059109511913562, 0.06481488369943304, -0.08985391770629525, -0.32148599724055604, -0.4312795417471023, -0.31997159164025163, -0.1936222306554019, -0.09148767178316713, 0.022392201647114182, 0.1254299092023949, 0.2337357613972575, 0.4717362521647304, 0.6462521926451885, 0.5235748983138363, 0.16356489415145992, -0.16828733369382814, -0.41981233193687045, -0.47759581614182905, -0.5213869391339603, -0.5628373276296921, -0.78241722314692, -1.0643733711026, -1.2937897516092662, -1.4507626887782508, -1.4950009281614236, -1.602567347788466, -1.8263486236996067, -1.9948539893254964, -1.7830885810413482, -1.1428748516718237, -0.43081594475445223, -0.030575817178158386, -0.18020481461750285, -0.6458103395467705, -0.9189967212941559, -0.7857378083527032, -0.3711050310528883, 0.06416806809112008, 0.17355233134588802, -0.09564939333319732, -0.4878856129904288, -0.6229657246439934, -0.46904716885817493, -0.16848204908529854, 0.04942552307372607, 0.06358430355952258, -0.22677738776910913, -0.6400877954240219, -1.0123068929848096, -1.3110269597403152, -1.4176216274122087, -1.2776804433892464]\n"
          ]
        }
      ],
      "source": [
        "print(data_1)"
      ]
    },
    {
      "cell_type": "code",
      "execution_count": null,
      "metadata": {
        "id": "uVg80bFP25AL"
      },
      "outputs": [],
      "source": [
        "results = {}"
      ]
    },
    {
      "cell_type": "code",
      "execution_count": null,
      "metadata": {
        "id": "Da_WtXIJRM5p"
      },
      "outputs": [],
      "source": [
        "from scipy import signal\n",
        "sf = 256\n",
        "\n",
        "freqs_o1, psd_o1 = signal.welch(data_0, sf, nperseg=131)\n",
        "freqs_o2, psd_o2 = signal.welch(data_1, sf, nperseg=131)"
      ]
    },
    {
      "cell_type": "code",
      "execution_count": null,
      "metadata": {
        "id": "k1iAA7s9RbiP",
        "colab": {
          "base_uri": "https://localhost:8080/"
        },
        "outputId": "d05ad07d-d593-4c7c-8572-f7c7c020b5d8"
      },
      "outputs": [
        {
          "output_type": "stream",
          "name": "stdout",
          "text": [
            "[7.69825617e-03 1.93768716e-01 1.86645774e-01 4.68595784e-04\n",
            " 3.43230218e-02 1.77537377e-01 6.14893005e-01 1.73997833e-01\n",
            " 5.31264366e-02 1.88489305e-02 7.86775609e-03 4.30540580e-02\n",
            " 5.45100011e-02 5.18036713e-02 1.51420876e-02 1.42190087e-02\n",
            " 1.00654944e-02 2.00581839e-02 3.31653127e-02 2.08180864e-02\n",
            " 4.96172670e-03 2.91640316e-03 1.23597967e-03 9.13496996e-04\n",
            " 9.82314465e-04 3.08063982e-05 8.35477805e-05 6.40040299e-06\n",
            " 3.31478032e-05 1.71969727e-04 4.69525856e-04 6.23569699e-04\n",
            " 1.35185895e-04 3.14756628e-05 1.00637130e-04 1.31935061e-07\n",
            " 8.15768570e-05 3.00679657e-05 1.09747865e-05 1.23948480e-04\n",
            " 2.66997610e-04 1.13574217e-04 2.39353699e-05 3.15931284e-05\n",
            " 3.07578902e-05 2.90425883e-05 3.44432083e-05 1.02501473e-05\n",
            " 5.72608260e-06 1.06820292e-05 6.42326722e-06 4.14688134e-06\n",
            " 2.39461740e-06 4.97864098e-06 1.21439341e-05 1.29263315e-05\n",
            " 6.05574203e-06 4.56832214e-06 5.32425599e-06 9.52921050e-07\n",
            " 1.53058447e-05 1.58225936e-05 3.82464980e-06 9.83718833e-07\n",
            " 2.26501795e-06 9.07715165e-06]\n"
          ]
        }
      ],
      "source": [
        "print(psd_o1)"
      ]
    },
    {
      "cell_type": "code",
      "execution_count": null,
      "metadata": {
        "id": "iDp6QIdM27Q-"
      },
      "outputs": [],
      "source": [
        "results['psd_o1_'+word] = psd_o1"
      ]
    },
    {
      "cell_type": "code",
      "execution_count": null,
      "metadata": {
        "id": "XKTrHo7rTbPa",
        "colab": {
          "base_uri": "https://localhost:8080/"
        },
        "outputId": "2a8288a1-5611-484a-a642-c1600d74c0e8"
      },
      "outputs": [
        {
          "output_type": "stream",
          "name": "stdout",
          "text": [
            "[1.60736907e-03 2.46268754e-02 2.35847400e-02 7.53385363e-04\n",
            " 6.78228633e-03 1.78450011e-02 5.17632481e-02 9.22719849e-03\n",
            " 2.90947581e-03 1.65797481e-04 4.53032714e-03 1.46115352e-02\n",
            " 1.51906758e-02 1.41879691e-02 5.47520348e-03 2.87072306e-03\n",
            " 1.32672432e-03 1.35773197e-03 1.10897364e-03 1.02957113e-03\n",
            " 1.21974222e-03 4.58178054e-03 2.19354990e-03 2.18693758e-04\n",
            " 1.81629062e-04 3.13313057e-05 1.36782191e-06 5.92431780e-05\n",
            " 3.44916962e-05 1.61205856e-05 2.47127608e-05 5.54033498e-05\n",
            " 1.48871963e-05 8.50941154e-06 5.87730276e-06 8.37403080e-07\n",
            " 9.46771472e-06 1.85357921e-06 4.32238671e-07 7.67623516e-06\n",
            " 2.15848862e-05 1.16652402e-05 2.21878925e-06 2.60470656e-06\n",
            " 2.54513089e-06 1.76072753e-06 3.47811268e-06 9.46742256e-07\n",
            " 3.85760674e-07 6.10177402e-07 7.91234757e-07 2.20135496e-07\n",
            " 5.62871824e-07 4.07595036e-07 1.94026207e-06 1.30805720e-06\n",
            " 3.72449506e-07 2.82231179e-07 3.71227580e-08 1.83177836e-07\n",
            " 1.90312819e-06 1.60637442e-06 2.58252751e-07 2.30831326e-07\n",
            " 7.13592636e-07 1.48972529e-06]\n"
          ]
        }
      ],
      "source": [
        "print(psd_o2)"
      ]
    },
    {
      "cell_type": "code",
      "execution_count": null,
      "metadata": {
        "id": "_Wavnjwj3P8i"
      },
      "outputs": [],
      "source": [
        "results['psd_o2_'+ word] = psd_o2"
      ]
    },
    {
      "cell_type": "markdown",
      "metadata": {
        "id": "poYEnUS4iqXX"
      },
      "source": [
        "Delta band"
      ]
    },
    {
      "cell_type": "code",
      "execution_count": null,
      "metadata": {
        "id": "ZmalynMmYWG7"
      },
      "outputs": [],
      "source": [
        "low, high = 0.5, 4\n",
        "\n",
        "idx_delta_o1 = np.logical_and(freqs_o1 >= low, freqs_o1 <= high)\n",
        "idx_delta_o2 = np.logical_and(freqs_o2 >= low, freqs_o2 <= high)\n"
      ]
    },
    {
      "cell_type": "code",
      "execution_count": null,
      "metadata": {
        "id": "afMck9bwUbjU",
        "colab": {
          "base_uri": "https://localhost:8080/"
        },
        "outputId": "b6e3577d-9053-45b0-f8ec-0f0bb578bd5f"
      },
      "outputs": [
        {
          "output_type": "stream",
          "name": "stdout",
          "text": [
            "Absolute delta power: 0.048\n",
            "Absolute delta power: 0.006\n"
          ]
        }
      ],
      "source": [
        "from scipy.integrate import simps\n",
        "freq_res = 0.25\n",
        "\n",
        "delta_power_o1 = simps(psd_o1[idx_delta_o1], dx=freq_res)\n",
        "print('Absolute delta power: %.3f' % delta_power_o1)\n",
        "\n",
        "delta_power_o2 = simps(psd_o2[idx_delta_o2], dx=freq_res)\n",
        "print('Absolute delta power: %.3f' % delta_power_o2)\n",
        "\n",
        "results['Absolute delta power_o1_'+ word] = delta_power_o1\n",
        "results['Absolute delta power_o2_'+ word] = delta_power_o2"
      ]
    },
    {
      "cell_type": "code",
      "execution_count": null,
      "metadata": {
        "id": "QXSDz2bIUbt4",
        "colab": {
          "base_uri": "https://localhost:8080/"
        },
        "outputId": "9e647253-dcc3-4a81-a59d-e8f08d1e8731"
      },
      "outputs": [
        {
          "output_type": "stream",
          "name": "stdout",
          "text": [
            "Relative delta power: 0.108\n",
            "Relative delta power: 0.114\n"
          ]
        }
      ],
      "source": [
        "total_power_o1 = simps(psd_o1, dx=freq_res)\n",
        "delta_rel_power_o1 = delta_power_o1 / total_power_o1\n",
        "print('Relative delta power: %.3f' % delta_rel_power_o1)\n",
        "\n",
        "total_power_o2 = simps(psd_o2, dx=freq_res)\n",
        "delta_rel_power_o2 = delta_power_o2 / total_power_o2\n",
        "print('Relative delta power: %.3f' % delta_rel_power_o2)\n",
        "\n",
        "results['Relative delta power_o1_'+ word] = delta_power_o1\n",
        "results['Relative delta power_o2_'+ word] = delta_power_o2"
      ]
    },
    {
      "cell_type": "markdown",
      "metadata": {
        "id": "cVnJrLIKi58V"
      },
      "source": [
        "Alpha band"
      ]
    },
    {
      "cell_type": "code",
      "execution_count": null,
      "metadata": {
        "id": "jkqKB9PiURTt"
      },
      "outputs": [],
      "source": [
        "total_power_o1 = 0\n",
        "total_power_o2 = 0\n",
        "low, high = 8, 12\n",
        "\n",
        "idx_alpha_o1 = np.logical_and(freqs_o1 >= low, freqs_o1 <= high)\n",
        "idx_alpha_o2 = np.logical_and(freqs_o2 >= low, freqs_o2 <= high)"
      ]
    },
    {
      "cell_type": "code",
      "execution_count": null,
      "metadata": {
        "id": "4UdwH-aGUWFy",
        "colab": {
          "base_uri": "https://localhost:8080/"
        },
        "outputId": "73a10c3a-a866-4a56-b111-d977c406fd2a"
      },
      "outputs": [
        {
          "output_type": "stream",
          "name": "stdout",
          "text": [
            "Absolute alpha power: 0.099\n",
            "Absolute alpha power: 0.009\n"
          ]
        }
      ],
      "source": [
        "alpha_power_o1 = simps(psd_o1[idx_alpha_o1], dx=freq_res)\n",
        "print('Absolute alpha power: %.3f' % alpha_power_o1)\n",
        "\n",
        "alpha_power_o2 = simps(psd_o2[idx_alpha_o2], dx=freq_res)\n",
        "print('Absolute alpha power: %.3f' % alpha_power_o2)\n",
        "\n",
        "results['Absolute alpha power_o1_'+ word] = alpha_power_o1\n",
        "results['Absolute alpha power_o2_'+ word] = alpha_power_o2"
      ]
    },
    {
      "cell_type": "code",
      "execution_count": null,
      "metadata": {
        "id": "wXiNDHFoUWM9",
        "colab": {
          "base_uri": "https://localhost:8080/"
        },
        "outputId": "e29d7fd2-f563-46ca-cc51-48a437c216fd"
      },
      "outputs": [
        {
          "output_type": "stream",
          "name": "stdout",
          "text": [
            "Relative alpha power: 0.225\n",
            "Relative alpha power: 0.165\n"
          ]
        }
      ],
      "source": [
        "total_power_o1 = simps(psd_o1, dx=freq_res)\n",
        "alpha_rel_power_o1 = alpha_power_o1 / total_power_o1\n",
        "print('Relative alpha power: %.3f' % alpha_rel_power_o1)\n",
        "\n",
        "total_power_o2 = simps(psd_o2, dx=freq_res)\n",
        "alpha_rel_power_o2 = alpha_power_o2 / total_power_o2\n",
        "print('Relative alpha power: %.3f' % alpha_rel_power_o2)\n",
        "\n",
        "results['Relative alpha power_o1_'+ word] = alpha_rel_power_o1\n",
        "results['Relative alpha power_o2_'+ word] = alpha_rel_power_o2"
      ]
    },
    {
      "cell_type": "markdown",
      "metadata": {
        "id": "VwwLzRifkl05"
      },
      "source": [
        "Theta band"
      ]
    },
    {
      "cell_type": "code",
      "execution_count": null,
      "metadata": {
        "id": "YltKiqL9kpIL"
      },
      "outputs": [],
      "source": [
        "total_power_o1 = 0\n",
        "total_power_o2 = 0\n",
        "low, high = 4, 8\n",
        "\n",
        "idx_theta_o1 = np.logical_and(freqs_o1 >= low, freqs_o1 <= high)\n",
        "idx_theta_o2 = np.logical_and(freqs_o2 >= low, freqs_o2 <= high)"
      ]
    },
    {
      "cell_type": "code",
      "execution_count": null,
      "metadata": {
        "id": "YcbbVNgFkpVG",
        "colab": {
          "base_uri": "https://localhost:8080/"
        },
        "outputId": "894c01ab-a89d-4f13-a31f-0c860beadeac"
      },
      "outputs": [
        {
          "output_type": "stream",
          "name": "stdout",
          "text": [
            "Absolute theta power: 0.004\n",
            "Absolute theta power: 0.001\n"
          ]
        }
      ],
      "source": [
        "theta_power_o1 = simps(psd_o1[idx_theta_o1], dx=freq_res)\n",
        "print('Absolute theta power: %.3f' % theta_power_o1)\n",
        "\n",
        "theta_power_o2 = simps(psd_o2[idx_theta_o2], dx=freq_res)\n",
        "print('Absolute theta power: %.3f' % theta_power_o2)\n",
        "\n",
        "results['Absolute theta power_o1_'+ word] = theta_power_o1\n",
        "results['Absolute theta power_o2_'+ word] = theta_power_o2"
      ]
    },
    {
      "cell_type": "code",
      "execution_count": null,
      "metadata": {
        "id": "rUYm7JhIkwID",
        "colab": {
          "base_uri": "https://localhost:8080/"
        },
        "outputId": "b57510d9-c78e-4229-8576-e32c1bd9cc57"
      },
      "outputs": [
        {
          "output_type": "stream",
          "name": "stdout",
          "text": [
            "Relative theta power: 0.010\n",
            "Relative theta power: 0.018\n"
          ]
        }
      ],
      "source": [
        "# Relative delta power (expressed as a percentage of total power)\n",
        "total_power_o1 = simps(psd_o1, dx=freq_res)\n",
        "theta_rel_power_o1 = theta_power_o1 / total_power_o1\n",
        "print('Relative theta power: %.3f' % theta_rel_power_o1)\n",
        "\n",
        "total_power_o2 = simps(psd_o2, dx=freq_res)\n",
        "theta_rel_power_o2 = theta_power_o2 / total_power_o2\n",
        "print('Relative theta power: %.3f' % theta_rel_power_o2)\n",
        "\n",
        "results['Relative theta power_o1_'+ word] = theta_rel_power_o1\n",
        "results['Relative theta power_o2_'+ word] = theta_rel_power_o2"
      ]
    },
    {
      "cell_type": "markdown",
      "metadata": {
        "id": "N8OhtIh4lnrO"
      },
      "source": [
        "Beta band"
      ]
    },
    {
      "cell_type": "code",
      "execution_count": null,
      "metadata": {
        "id": "z-kOlU1GlpKw"
      },
      "outputs": [],
      "source": [
        "total_power_o1 = 0\n",
        "total_power_o2 = 0\n",
        "low, high = 13, 30\n",
        "\n",
        "idx_beta_o1 = np.logical_and(freqs_o1 >= low, freqs_o1 <= high)\n",
        "idx_beta_o2 = np.logical_and(freqs_o2 >= low, freqs_o2 <= high)"
      ]
    },
    {
      "cell_type": "code",
      "execution_count": null,
      "metadata": {
        "id": "7MNgbXpulpUV",
        "colab": {
          "base_uri": "https://localhost:8080/"
        },
        "outputId": "fa008e2d-fb38-4e6c-b4a4-8c21dfa71425"
      },
      "outputs": [
        {
          "output_type": "stream",
          "name": "stdout",
          "text": [
            "Absolute beta power: 0.078\n",
            "Absolute beta power: 0.015\n"
          ]
        }
      ],
      "source": [
        "beta_power_o1 = simps(psd_o1[idx_beta_o1], dx=freq_res)\n",
        "print('Absolute beta power: %.3f' % beta_power_o1)\n",
        "\n",
        "beta_power_o2 = simps(psd_o2[idx_beta_o2], dx=freq_res)\n",
        "print('Absolute beta power: %.3f' % beta_power_o2)\n",
        "\n",
        "results['Absolute beta power_o1_'+ word] = beta_power_o1\n",
        "results['Absolute beta power_o2_'+ word] = beta_power_o2"
      ]
    },
    {
      "cell_type": "code",
      "execution_count": null,
      "metadata": {
        "id": "BKhMPHHJlpaM",
        "colab": {
          "base_uri": "https://localhost:8080/"
        },
        "outputId": "0f95cd1b-79d7-44c7-bce3-047126dd0519"
      },
      "outputs": [
        {
          "output_type": "stream",
          "name": "stdout",
          "text": [
            "Relative beta power: 0.178\n",
            "Relative beta power: 0.289\n"
          ]
        }
      ],
      "source": [
        "total_power_o1 = simps(psd_o1, dx=freq_res)\n",
        "beta_rel_power_o1 = beta_power_o1 / total_power_o1\n",
        "print('Relative beta power: %.3f' % beta_rel_power_o1)\n",
        "\n",
        "total_power_o2 = simps(psd_o2, dx=freq_res)\n",
        "beta_rel_power_o2 = beta_power_o2 / total_power_o2\n",
        "print('Relative beta power: %.3f' % beta_rel_power_o2)\n",
        "\n",
        "results['Relative beta power_o1_'+ word] = beta_rel_power_o1\n",
        "results['Relative beta power_o2_'+ word] = beta_rel_power_o2"
      ]
    },
    {
      "cell_type": "markdown",
      "metadata": {
        "id": "TI9NtEXwmYu8"
      },
      "source": [
        "Gamma band"
      ]
    },
    {
      "cell_type": "code",
      "execution_count": null,
      "metadata": {
        "id": "fHY54vTamaOT"
      },
      "outputs": [],
      "source": [
        "total_power_o1 = 0\n",
        "total_power_o2 = 0\n",
        "low, high = 30, 100\n",
        "\n",
        "idx_gamma_o1 = np.logical_and(freqs_o1 >= low, freqs_o1 <= high)\n",
        "idx_gamma_o2 = np.logical_and(freqs_o2 >= low, freqs_o2 <= high)"
      ]
    },
    {
      "cell_type": "code",
      "execution_count": null,
      "metadata": {
        "id": "BRoGyBZJmaQX",
        "colab": {
          "base_uri": "https://localhost:8080/"
        },
        "outputId": "2cb0d46a-959a-4cd5-8649-91f31c73cd08"
      },
      "outputs": [
        {
          "output_type": "stream",
          "name": "stdout",
          "text": [
            "Absolute gamma power: 0.023\n",
            "Absolute gamma power: 0.003\n"
          ]
        }
      ],
      "source": [
        "gamma_power_o1 = simps(psd_o1[idx_gamma_o1], dx=freq_res)\n",
        "print('Absolute gamma power: %.3f' % gamma_power_o1)\n",
        "\n",
        "gamma_power_o2 = simps(psd_o2[idx_gamma_o2], dx=freq_res)\n",
        "print('Absolute gamma power: %.3f' % gamma_power_o2)\n",
        "\n",
        "results['Absolute gamma power_o1_'+ word] = gamma_power_o1\n",
        "results['Absolute gamma power_o2_'+ word] = gamma_power_o2"
      ]
    },
    {
      "cell_type": "code",
      "execution_count": null,
      "metadata": {
        "id": "YNv9q-B3maUZ",
        "colab": {
          "base_uri": "https://localhost:8080/"
        },
        "outputId": "88f7cf48-3627-4ea9-bb80-730495f94823"
      },
      "outputs": [
        {
          "output_type": "stream",
          "name": "stdout",
          "text": [
            "Relative gamma power: 0.053\n",
            "Relative gamma power: 0.061\n"
          ]
        }
      ],
      "source": [
        "total_power_o1 = simps(psd_o1, dx=freq_res)\n",
        "gamma_rel_power_o1 = gamma_power_o1 / total_power_o1\n",
        "print('Relative gamma power: %.3f' % gamma_rel_power_o1)\n",
        "\n",
        "total_power_o2 = simps(psd_o2, dx=freq_res)\n",
        "gamma_rel_power_o2 = gamma_power_o2 / total_power_o2\n",
        "print('Relative gamma power: %.3f' % gamma_rel_power_o2)\n",
        "\n",
        "results['Relative gamma power_o1_'+ word] = gamma_rel_power_o1\n",
        "results['Relative gamma power_o2_'+ word] = gamma_rel_power_o2"
      ]
    },
    {
      "cell_type": "code",
      "execution_count": null,
      "metadata": {
        "id": "ABnZXGZd2ndR",
        "colab": {
          "base_uri": "https://localhost:8080/"
        },
        "outputId": "55187ef3-0bd6-44a2-aaf6-f3f3a7708e3f"
      },
      "outputs": [
        {
          "output_type": "stream",
          "name": "stdout",
          "text": [
            "{'psd_o1_17_Bha_segregated_eeg_data_Pigeon-Colgate_Pigeon_not_preferred.csv': array([7.69825617e-03, 1.93768716e-01, 1.86645774e-01, 4.68595784e-04,\n",
            "       3.43230218e-02, 1.77537377e-01, 6.14893005e-01, 1.73997833e-01,\n",
            "       5.31264366e-02, 1.88489305e-02, 7.86775609e-03, 4.30540580e-02,\n",
            "       5.45100011e-02, 5.18036713e-02, 1.51420876e-02, 1.42190087e-02,\n",
            "       1.00654944e-02, 2.00581839e-02, 3.31653127e-02, 2.08180864e-02,\n",
            "       4.96172670e-03, 2.91640316e-03, 1.23597967e-03, 9.13496996e-04,\n",
            "       9.82314465e-04, 3.08063982e-05, 8.35477805e-05, 6.40040299e-06,\n",
            "       3.31478032e-05, 1.71969727e-04, 4.69525856e-04, 6.23569699e-04,\n",
            "       1.35185895e-04, 3.14756628e-05, 1.00637130e-04, 1.31935061e-07,\n",
            "       8.15768570e-05, 3.00679657e-05, 1.09747865e-05, 1.23948480e-04,\n",
            "       2.66997610e-04, 1.13574217e-04, 2.39353699e-05, 3.15931284e-05,\n",
            "       3.07578902e-05, 2.90425883e-05, 3.44432083e-05, 1.02501473e-05,\n",
            "       5.72608260e-06, 1.06820292e-05, 6.42326722e-06, 4.14688134e-06,\n",
            "       2.39461740e-06, 4.97864098e-06, 1.21439341e-05, 1.29263315e-05,\n",
            "       6.05574203e-06, 4.56832214e-06, 5.32425599e-06, 9.52921050e-07,\n",
            "       1.53058447e-05, 1.58225936e-05, 3.82464980e-06, 9.83718833e-07,\n",
            "       2.26501795e-06, 9.07715165e-06]), 'psd_o2_17_Bha_segregated_eeg_data_Pigeon-Colgate_Pigeon_not_preferred.csv': array([1.60736907e-03, 2.46268754e-02, 2.35847400e-02, 7.53385363e-04,\n",
            "       6.78228633e-03, 1.78450011e-02, 5.17632481e-02, 9.22719849e-03,\n",
            "       2.90947581e-03, 1.65797481e-04, 4.53032714e-03, 1.46115352e-02,\n",
            "       1.51906758e-02, 1.41879691e-02, 5.47520348e-03, 2.87072306e-03,\n",
            "       1.32672432e-03, 1.35773197e-03, 1.10897364e-03, 1.02957113e-03,\n",
            "       1.21974222e-03, 4.58178054e-03, 2.19354990e-03, 2.18693758e-04,\n",
            "       1.81629062e-04, 3.13313057e-05, 1.36782191e-06, 5.92431780e-05,\n",
            "       3.44916962e-05, 1.61205856e-05, 2.47127608e-05, 5.54033498e-05,\n",
            "       1.48871963e-05, 8.50941154e-06, 5.87730276e-06, 8.37403080e-07,\n",
            "       9.46771472e-06, 1.85357921e-06, 4.32238671e-07, 7.67623516e-06,\n",
            "       2.15848862e-05, 1.16652402e-05, 2.21878925e-06, 2.60470656e-06,\n",
            "       2.54513089e-06, 1.76072753e-06, 3.47811268e-06, 9.46742256e-07,\n",
            "       3.85760674e-07, 6.10177402e-07, 7.91234757e-07, 2.20135496e-07,\n",
            "       5.62871824e-07, 4.07595036e-07, 1.94026207e-06, 1.30805720e-06,\n",
            "       3.72449506e-07, 2.82231179e-07, 3.71227580e-08, 1.83177836e-07,\n",
            "       1.90312819e-06, 1.60637442e-06, 2.58252751e-07, 2.30831326e-07,\n",
            "       7.13592636e-07, 1.48972529e-06]), 'Absolute delta power_o1_17_Bha_segregated_eeg_data_Pigeon-Colgate_Pigeon_not_preferred.csv': 0.04755181121218807, 'Absolute delta power_o2_17_Bha_segregated_eeg_data_Pigeon-Colgate_Pigeon_not_preferred.csv': 0.006026451934302676, 'Relative delta power_o1_17_Bha_segregated_eeg_data_Pigeon-Colgate_Pigeon_not_preferred.csv': 0.04755181121218807, 'Relative delta power_o2_17_Bha_segregated_eeg_data_Pigeon-Colgate_Pigeon_not_preferred.csv': 0.006026451934302676, 'Absolute alpha power_o1_17_Bha_segregated_eeg_data_Pigeon-Colgate_Pigeon_not_preferred.csv': 0.09905379777137018, 'Absolute alpha power_o2_17_Bha_segregated_eeg_data_Pigeon-Colgate_Pigeon_not_preferred.csv': 0.008701031151998932, 'Relative alpha power_o1_17_Bha_segregated_eeg_data_Pigeon-Colgate_Pigeon_not_preferred.csv': 0.22547196352402035, 'Relative alpha power_o2_17_Bha_segregated_eeg_data_Pigeon-Colgate_Pigeon_not_preferred.csv': 0.16510783405601964, 'Absolute theta power_o1_17_Bha_segregated_eeg_data_Pigeon-Colgate_Pigeon_not_preferred.csv': 0.004348952192496228, 'Absolute theta power_o2_17_Bha_segregated_eeg_data_Pigeon-Colgate_Pigeon_not_preferred.csv': 0.0009419589619468454, 'Relative theta power_o1_17_Bha_segregated_eeg_data_Pigeon-Colgate_Pigeon_not_preferred.csv': 0.009899335635545254, 'Relative theta power_o2_17_Bha_segregated_eeg_data_Pigeon-Colgate_Pigeon_not_preferred.csv': 0.017874295731141104, 'Absolute beta power_o1_17_Bha_segregated_eeg_data_Pigeon-Colgate_Pigeon_not_preferred.csv': 0.0781846072675289, 'Absolute beta power_o2_17_Bha_segregated_eeg_data_Pigeon-Colgate_Pigeon_not_preferred.csv': 0.01520427117418027, 'Relative beta power_o1_17_Bha_segregated_eeg_data_Pigeon-Colgate_Pigeon_not_preferred.csv': 0.17796830928838284, 'Relative beta power_o2_17_Bha_segregated_eeg_data_Pigeon-Colgate_Pigeon_not_preferred.csv': 0.288511124499602, 'Absolute gamma power_o1_17_Bha_segregated_eeg_data_Pigeon-Colgate_Pigeon_not_preferred.csv': 0.023353907598170763, 'Absolute gamma power_o2_17_Bha_segregated_eeg_data_Pigeon-Colgate_Pigeon_not_preferred.csv': 0.0032196448218763957, 'Relative gamma power_o1_17_Bha_segregated_eeg_data_Pigeon-Colgate_Pigeon_not_preferred.csv': 0.053159510494205885, 'Relative gamma power_o2_17_Bha_segregated_eeg_data_Pigeon-Colgate_Pigeon_not_preferred.csv': 0.06109489480997506}\n"
          ]
        }
      ],
      "source": [
        "print(results)"
      ]
    },
    {
      "cell_type": "code",
      "execution_count": null,
      "metadata": {
        "id": "_DQVnmelRIdX",
        "colab": {
          "base_uri": "https://localhost:8080/",
          "height": 1000
        },
        "outputId": "bb73dc62-5536-4b7f-d1cc-c3c61cba233e"
      },
      "outputs": [
        {
          "output_type": "stream",
          "name": "stdout",
          "text": [
            "    psd_o1_17_Bha_segregated_eeg_data_Pigeon-Colgate_Pigeon_not_preferred.csv  \\\n",
            "0                                        7.698256e-03                           \n",
            "1                                        1.937687e-01                           \n",
            "2                                        1.866458e-01                           \n",
            "3                                        4.685958e-04                           \n",
            "4                                        3.432302e-02                           \n",
            "..                                                ...                           \n",
            "61                                       1.582259e-05                           \n",
            "62                                       3.824650e-06                           \n",
            "63                                       9.837188e-07                           \n",
            "64                                       2.265018e-06                           \n",
            "65                                       9.077152e-06                           \n",
            "\n",
            "    psd_o2_17_Bha_segregated_eeg_data_Pigeon-Colgate_Pigeon_not_preferred.csv  \\\n",
            "0                                        1.607369e-03                           \n",
            "1                                        2.462688e-02                           \n",
            "2                                        2.358474e-02                           \n",
            "3                                        7.533854e-04                           \n",
            "4                                        6.782286e-03                           \n",
            "..                                                ...                           \n",
            "61                                       1.606374e-06                           \n",
            "62                                       2.582528e-07                           \n",
            "63                                       2.308313e-07                           \n",
            "64                                       7.135926e-07                           \n",
            "65                                       1.489725e-06                           \n",
            "\n",
            "    Absolute delta power_o1_17_Bha_segregated_eeg_data_Pigeon-Colgate_Pigeon_not_preferred.csv  \\\n",
            "0                                            0.047552                                            \n",
            "1                                            0.047552                                            \n",
            "2                                            0.047552                                            \n",
            "3                                            0.047552                                            \n",
            "4                                            0.047552                                            \n",
            "..                                                ...                                            \n",
            "61                                           0.047552                                            \n",
            "62                                           0.047552                                            \n",
            "63                                           0.047552                                            \n",
            "64                                           0.047552                                            \n",
            "65                                           0.047552                                            \n",
            "\n",
            "    Absolute delta power_o2_17_Bha_segregated_eeg_data_Pigeon-Colgate_Pigeon_not_preferred.csv  \\\n",
            "0                                            0.006026                                            \n",
            "1                                            0.006026                                            \n",
            "2                                            0.006026                                            \n",
            "3                                            0.006026                                            \n",
            "4                                            0.006026                                            \n",
            "..                                                ...                                            \n",
            "61                                           0.006026                                            \n",
            "62                                           0.006026                                            \n",
            "63                                           0.006026                                            \n",
            "64                                           0.006026                                            \n",
            "65                                           0.006026                                            \n",
            "\n",
            "    Relative delta power_o1_17_Bha_segregated_eeg_data_Pigeon-Colgate_Pigeon_not_preferred.csv  \\\n",
            "0                                            0.047552                                            \n",
            "1                                            0.047552                                            \n",
            "2                                            0.047552                                            \n",
            "3                                            0.047552                                            \n",
            "4                                            0.047552                                            \n",
            "..                                                ...                                            \n",
            "61                                           0.047552                                            \n",
            "62                                           0.047552                                            \n",
            "63                                           0.047552                                            \n",
            "64                                           0.047552                                            \n",
            "65                                           0.047552                                            \n",
            "\n",
            "    Relative delta power_o2_17_Bha_segregated_eeg_data_Pigeon-Colgate_Pigeon_not_preferred.csv  \\\n",
            "0                                            0.006026                                            \n",
            "1                                            0.006026                                            \n",
            "2                                            0.006026                                            \n",
            "3                                            0.006026                                            \n",
            "4                                            0.006026                                            \n",
            "..                                                ...                                            \n",
            "61                                           0.006026                                            \n",
            "62                                           0.006026                                            \n",
            "63                                           0.006026                                            \n",
            "64                                           0.006026                                            \n",
            "65                                           0.006026                                            \n",
            "\n",
            "    Absolute alpha power_o1_17_Bha_segregated_eeg_data_Pigeon-Colgate_Pigeon_not_preferred.csv  \\\n",
            "0                                            0.099054                                            \n",
            "1                                            0.099054                                            \n",
            "2                                            0.099054                                            \n",
            "3                                            0.099054                                            \n",
            "4                                            0.099054                                            \n",
            "..                                                ...                                            \n",
            "61                                           0.099054                                            \n",
            "62                                           0.099054                                            \n",
            "63                                           0.099054                                            \n",
            "64                                           0.099054                                            \n",
            "65                                           0.099054                                            \n",
            "\n",
            "    Absolute alpha power_o2_17_Bha_segregated_eeg_data_Pigeon-Colgate_Pigeon_not_preferred.csv  \\\n",
            "0                                            0.008701                                            \n",
            "1                                            0.008701                                            \n",
            "2                                            0.008701                                            \n",
            "3                                            0.008701                                            \n",
            "4                                            0.008701                                            \n",
            "..                                                ...                                            \n",
            "61                                           0.008701                                            \n",
            "62                                           0.008701                                            \n",
            "63                                           0.008701                                            \n",
            "64                                           0.008701                                            \n",
            "65                                           0.008701                                            \n",
            "\n",
            "    Relative alpha power_o1_17_Bha_segregated_eeg_data_Pigeon-Colgate_Pigeon_not_preferred.csv  \\\n",
            "0                                            0.225472                                            \n",
            "1                                            0.225472                                            \n",
            "2                                            0.225472                                            \n",
            "3                                            0.225472                                            \n",
            "4                                            0.225472                                            \n",
            "..                                                ...                                            \n",
            "61                                           0.225472                                            \n",
            "62                                           0.225472                                            \n",
            "63                                           0.225472                                            \n",
            "64                                           0.225472                                            \n",
            "65                                           0.225472                                            \n",
            "\n",
            "    Relative alpha power_o2_17_Bha_segregated_eeg_data_Pigeon-Colgate_Pigeon_not_preferred.csv  \\\n",
            "0                                            0.165108                                            \n",
            "1                                            0.165108                                            \n",
            "2                                            0.165108                                            \n",
            "3                                            0.165108                                            \n",
            "4                                            0.165108                                            \n",
            "..                                                ...                                            \n",
            "61                                           0.165108                                            \n",
            "62                                           0.165108                                            \n",
            "63                                           0.165108                                            \n",
            "64                                           0.165108                                            \n",
            "65                                           0.165108                                            \n",
            "\n",
            "    ...  \\\n",
            "0   ...   \n",
            "1   ...   \n",
            "2   ...   \n",
            "3   ...   \n",
            "4   ...   \n",
            "..  ...   \n",
            "61  ...   \n",
            "62  ...   \n",
            "63  ...   \n",
            "64  ...   \n",
            "65  ...   \n",
            "\n",
            "    Relative theta power_o1_17_Bha_segregated_eeg_data_Pigeon-Colgate_Pigeon_not_preferred.csv  \\\n",
            "0                                            0.009899                                            \n",
            "1                                            0.009899                                            \n",
            "2                                            0.009899                                            \n",
            "3                                            0.009899                                            \n",
            "4                                            0.009899                                            \n",
            "..                                                ...                                            \n",
            "61                                           0.009899                                            \n",
            "62                                           0.009899                                            \n",
            "63                                           0.009899                                            \n",
            "64                                           0.009899                                            \n",
            "65                                           0.009899                                            \n",
            "\n",
            "    Relative theta power_o2_17_Bha_segregated_eeg_data_Pigeon-Colgate_Pigeon_not_preferred.csv  \\\n",
            "0                                            0.017874                                            \n",
            "1                                            0.017874                                            \n",
            "2                                            0.017874                                            \n",
            "3                                            0.017874                                            \n",
            "4                                            0.017874                                            \n",
            "..                                                ...                                            \n",
            "61                                           0.017874                                            \n",
            "62                                           0.017874                                            \n",
            "63                                           0.017874                                            \n",
            "64                                           0.017874                                            \n",
            "65                                           0.017874                                            \n",
            "\n",
            "    Absolute beta power_o1_17_Bha_segregated_eeg_data_Pigeon-Colgate_Pigeon_not_preferred.csv  \\\n",
            "0                                            0.078185                                           \n",
            "1                                            0.078185                                           \n",
            "2                                            0.078185                                           \n",
            "3                                            0.078185                                           \n",
            "4                                            0.078185                                           \n",
            "..                                                ...                                           \n",
            "61                                           0.078185                                           \n",
            "62                                           0.078185                                           \n",
            "63                                           0.078185                                           \n",
            "64                                           0.078185                                           \n",
            "65                                           0.078185                                           \n",
            "\n",
            "    Absolute beta power_o2_17_Bha_segregated_eeg_data_Pigeon-Colgate_Pigeon_not_preferred.csv  \\\n",
            "0                                            0.015204                                           \n",
            "1                                            0.015204                                           \n",
            "2                                            0.015204                                           \n",
            "3                                            0.015204                                           \n",
            "4                                            0.015204                                           \n",
            "..                                                ...                                           \n",
            "61                                           0.015204                                           \n",
            "62                                           0.015204                                           \n",
            "63                                           0.015204                                           \n",
            "64                                           0.015204                                           \n",
            "65                                           0.015204                                           \n",
            "\n",
            "    Relative beta power_o1_17_Bha_segregated_eeg_data_Pigeon-Colgate_Pigeon_not_preferred.csv  \\\n",
            "0                                            0.177968                                           \n",
            "1                                            0.177968                                           \n",
            "2                                            0.177968                                           \n",
            "3                                            0.177968                                           \n",
            "4                                            0.177968                                           \n",
            "..                                                ...                                           \n",
            "61                                           0.177968                                           \n",
            "62                                           0.177968                                           \n",
            "63                                           0.177968                                           \n",
            "64                                           0.177968                                           \n",
            "65                                           0.177968                                           \n",
            "\n",
            "    Relative beta power_o2_17_Bha_segregated_eeg_data_Pigeon-Colgate_Pigeon_not_preferred.csv  \\\n",
            "0                                            0.288511                                           \n",
            "1                                            0.288511                                           \n",
            "2                                            0.288511                                           \n",
            "3                                            0.288511                                           \n",
            "4                                            0.288511                                           \n",
            "..                                                ...                                           \n",
            "61                                           0.288511                                           \n",
            "62                                           0.288511                                           \n",
            "63                                           0.288511                                           \n",
            "64                                           0.288511                                           \n",
            "65                                           0.288511                                           \n",
            "\n",
            "    Absolute gamma power_o1_17_Bha_segregated_eeg_data_Pigeon-Colgate_Pigeon_not_preferred.csv  \\\n",
            "0                                            0.023354                                            \n",
            "1                                            0.023354                                            \n",
            "2                                            0.023354                                            \n",
            "3                                            0.023354                                            \n",
            "4                                            0.023354                                            \n",
            "..                                                ...                                            \n",
            "61                                           0.023354                                            \n",
            "62                                           0.023354                                            \n",
            "63                                           0.023354                                            \n",
            "64                                           0.023354                                            \n",
            "65                                           0.023354                                            \n",
            "\n",
            "    Absolute gamma power_o2_17_Bha_segregated_eeg_data_Pigeon-Colgate_Pigeon_not_preferred.csv  \\\n",
            "0                                             0.00322                                            \n",
            "1                                             0.00322                                            \n",
            "2                                             0.00322                                            \n",
            "3                                             0.00322                                            \n",
            "4                                             0.00322                                            \n",
            "..                                                ...                                            \n",
            "61                                            0.00322                                            \n",
            "62                                            0.00322                                            \n",
            "63                                            0.00322                                            \n",
            "64                                            0.00322                                            \n",
            "65                                            0.00322                                            \n",
            "\n",
            "    Relative gamma power_o1_17_Bha_segregated_eeg_data_Pigeon-Colgate_Pigeon_not_preferred.csv  \\\n",
            "0                                             0.05316                                            \n",
            "1                                             0.05316                                            \n",
            "2                                             0.05316                                            \n",
            "3                                             0.05316                                            \n",
            "4                                             0.05316                                            \n",
            "..                                                ...                                            \n",
            "61                                            0.05316                                            \n",
            "62                                            0.05316                                            \n",
            "63                                            0.05316                                            \n",
            "64                                            0.05316                                            \n",
            "65                                            0.05316                                            \n",
            "\n",
            "    Relative gamma power_o2_17_Bha_segregated_eeg_data_Pigeon-Colgate_Pigeon_not_preferred.csv  \n",
            "0                                            0.061095                                           \n",
            "1                                            0.061095                                           \n",
            "2                                            0.061095                                           \n",
            "3                                            0.061095                                           \n",
            "4                                            0.061095                                           \n",
            "..                                                ...                                           \n",
            "61                                           0.061095                                           \n",
            "62                                           0.061095                                           \n",
            "63                                           0.061095                                           \n",
            "64                                           0.061095                                           \n",
            "65                                           0.061095                                           \n",
            "\n",
            "[66 rows x 22 columns]\n"
          ]
        },
        {
          "output_type": "display_data",
          "data": {
            "text/plain": [
              "<IPython.core.display.Javascript object>"
            ],
            "application/javascript": [
              "\n",
              "    async function download(id, filename, size) {\n",
              "      if (!google.colab.kernel.accessAllowed) {\n",
              "        return;\n",
              "      }\n",
              "      const div = document.createElement('div');\n",
              "      const label = document.createElement('label');\n",
              "      label.textContent = `Downloading \"${filename}\": `;\n",
              "      div.appendChild(label);\n",
              "      const progress = document.createElement('progress');\n",
              "      progress.max = size;\n",
              "      div.appendChild(progress);\n",
              "      document.body.appendChild(div);\n",
              "\n",
              "      const buffers = [];\n",
              "      let downloaded = 0;\n",
              "\n",
              "      const channel = await google.colab.kernel.comms.open(id);\n",
              "      // Send a message to notify the kernel that we're ready.\n",
              "      channel.send({})\n",
              "\n",
              "      for await (const message of channel.messages) {\n",
              "        // Send a message to notify the kernel that we're ready.\n",
              "        channel.send({})\n",
              "        if (message.buffers) {\n",
              "          for (const buffer of message.buffers) {\n",
              "            buffers.push(buffer);\n",
              "            downloaded += buffer.byteLength;\n",
              "            progress.value = downloaded;\n",
              "          }\n",
              "        }\n",
              "      }\n",
              "      const blob = new Blob(buffers, {type: 'application/binary'});\n",
              "      const a = document.createElement('a');\n",
              "      a.href = window.URL.createObjectURL(blob);\n",
              "      a.download = filename;\n",
              "      div.appendChild(a);\n",
              "      a.click();\n",
              "      div.remove();\n",
              "    }\n",
              "  "
            ]
          },
          "metadata": {}
        },
        {
          "output_type": "display_data",
          "data": {
            "text/plain": [
              "<IPython.core.display.Javascript object>"
            ],
            "application/javascript": [
              "download(\"download_a784daea-a005-4c92-82c8-c4a7081dada2\", \"17_Bha_segregated_eeg_data_Pigeon-Colgate_Pigeon_not_preferred.csv.csv\", 32030)"
            ]
          },
          "metadata": {}
        }
      ],
      "source": [
        "from google.colab import files\n",
        "df = pd.DataFrame.from_dict(results)\n",
        "print(df)\n",
        "\n",
        "df.to_csv(word +'.csv')\n",
        "files.download(word+'.csv')"
      ]
    }
  ],
  "metadata": {
    "colab": {
      "provenance": [],
      "toc_visible": true
    },
    "kernelspec": {
      "display_name": "Python 3",
      "name": "python3"
    },
    "language_info": {
      "name": "python"
    }
  },
  "nbformat": 4,
  "nbformat_minor": 0
}