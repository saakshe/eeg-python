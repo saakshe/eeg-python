{
  "nbformat": 4,
  "nbformat_minor": 0,
  "metadata": {
    "colab": {
      "provenance": [],
      "toc_visible": true
    },
    "kernelspec": {
      "name": "python3",
      "display_name": "Python 3"
    },
    "language_info": {
      "name": "python"
    }
  },
  "cells": [
    {
      "cell_type": "code",
      "execution_count": null,
      "metadata": {
        "colab": {
          "base_uri": "https://localhost:8080/"
        },
        "id": "Wjc7M3xHYY4f",
        "outputId": "7407b0ab-29c7-4b15-dcc0-82a73e8180bc"
      },
      "outputs": [
        {
          "output_type": "stream",
          "name": "stdout",
          "text": [
            "Collecting mne\n",
            "  Downloading mne-1.5.1-py3-none-any.whl (7.7 MB)\n",
            "\u001b[2K     \u001b[90m━━━━━━━━━━━━━━━━━━━━━━━━━━━━━━━━━━━━━━━━\u001b[0m \u001b[32m7.7/7.7 MB\u001b[0m \u001b[31m16.1 MB/s\u001b[0m eta \u001b[36m0:00:00\u001b[0m\n",
            "\u001b[?25hRequirement already satisfied: numpy>=1.15.4 in /usr/local/lib/python3.10/dist-packages (from mne) (1.23.5)\n",
            "Requirement already satisfied: scipy>=1.6.3 in /usr/local/lib/python3.10/dist-packages (from mne) (1.11.3)\n",
            "Requirement already satisfied: matplotlib>=3.4.0 in /usr/local/lib/python3.10/dist-packages (from mne) (3.7.1)\n",
            "Requirement already satisfied: tqdm in /usr/local/lib/python3.10/dist-packages (from mne) (4.66.1)\n",
            "Requirement already satisfied: pooch>=1.5 in /usr/local/lib/python3.10/dist-packages (from mne) (1.8.0)\n",
            "Requirement already satisfied: decorator in /usr/local/lib/python3.10/dist-packages (from mne) (4.4.2)\n",
            "Requirement already satisfied: packaging in /usr/local/lib/python3.10/dist-packages (from mne) (23.2)\n",
            "Requirement already satisfied: jinja2 in /usr/local/lib/python3.10/dist-packages (from mne) (3.1.2)\n",
            "Requirement already satisfied: contourpy>=1.0.1 in /usr/local/lib/python3.10/dist-packages (from matplotlib>=3.4.0->mne) (1.1.1)\n",
            "Requirement already satisfied: cycler>=0.10 in /usr/local/lib/python3.10/dist-packages (from matplotlib>=3.4.0->mne) (0.12.1)\n",
            "Requirement already satisfied: fonttools>=4.22.0 in /usr/local/lib/python3.10/dist-packages (from matplotlib>=3.4.0->mne) (4.43.1)\n",
            "Requirement already satisfied: kiwisolver>=1.0.1 in /usr/local/lib/python3.10/dist-packages (from matplotlib>=3.4.0->mne) (1.4.5)\n",
            "Requirement already satisfied: pillow>=6.2.0 in /usr/local/lib/python3.10/dist-packages (from matplotlib>=3.4.0->mne) (9.4.0)\n",
            "Requirement already satisfied: pyparsing>=2.3.1 in /usr/local/lib/python3.10/dist-packages (from matplotlib>=3.4.0->mne) (3.1.1)\n",
            "Requirement already satisfied: python-dateutil>=2.7 in /usr/local/lib/python3.10/dist-packages (from matplotlib>=3.4.0->mne) (2.8.2)\n",
            "Requirement already satisfied: platformdirs>=2.5.0 in /usr/local/lib/python3.10/dist-packages (from pooch>=1.5->mne) (3.11.0)\n",
            "Requirement already satisfied: requests>=2.19.0 in /usr/local/lib/python3.10/dist-packages (from pooch>=1.5->mne) (2.31.0)\n",
            "Requirement already satisfied: MarkupSafe>=2.0 in /usr/local/lib/python3.10/dist-packages (from jinja2->mne) (2.1.3)\n",
            "Requirement already satisfied: six>=1.5 in /usr/local/lib/python3.10/dist-packages (from python-dateutil>=2.7->matplotlib>=3.4.0->mne) (1.16.0)\n",
            "Requirement already satisfied: charset-normalizer<4,>=2 in /usr/local/lib/python3.10/dist-packages (from requests>=2.19.0->pooch>=1.5->mne) (3.3.1)\n",
            "Requirement already satisfied: idna<4,>=2.5 in /usr/local/lib/python3.10/dist-packages (from requests>=2.19.0->pooch>=1.5->mne) (3.4)\n",
            "Requirement already satisfied: urllib3<3,>=1.21.1 in /usr/local/lib/python3.10/dist-packages (from requests>=2.19.0->pooch>=1.5->mne) (2.0.7)\n",
            "Requirement already satisfied: certifi>=2017.4.17 in /usr/local/lib/python3.10/dist-packages (from requests>=2.19.0->pooch>=1.5->mne) (2023.7.22)\n",
            "Installing collected packages: mne\n",
            "Successfully installed mne-1.5.1\n"
          ]
        }
      ],
      "source": [
        "!pip install mne"
      ]
    },
    {
      "cell_type": "code",
      "source": [
        "from google.colab import drive\n",
        "drive.mount('/content/drive')"
      ],
      "metadata": {
        "colab": {
          "base_uri": "https://localhost:8080/"
        },
        "id": "oze5_OENYe8r",
        "outputId": "5538ca5f-416b-443d-cc01-52256d8f72b1"
      },
      "execution_count": null,
      "outputs": [
        {
          "output_type": "stream",
          "name": "stdout",
          "text": [
            "Mounted at /content/drive\n"
          ]
        }
      ]
    },
    {
      "cell_type": "code",
      "source": [
        "import mne\n",
        "import matplotlib.pyplot as plt\n",
        "import pandas as pd\n",
        "import os\n",
        "import numpy as np\n",
        "import seaborn as sns"
      ],
      "metadata": {
        "id": "b058KJ5VYiUc"
      },
      "execution_count": null,
      "outputs": []
    },
    {
      "cell_type": "code",
      "source": [
        "from sklearn.decomposition import PCA\n",
        "from mne.time_frequency import psd_array_welch\n",
        "from mne.filter import filter_data"
      ],
      "metadata": {
        "id": "M_H5tfq9YuFq"
      },
      "execution_count": null,
      "outputs": []
    },
    {
      "cell_type": "code",
      "source": [
        "def myfunction(data):\n",
        "  print(data)\n",
        "file_path = '/content/Chicco-Colgate-Chicco-preferred.csv'"
      ],
      "metadata": {
        "id": "YvI6kIyAYlKQ"
      },
      "execution_count": null,
      "outputs": []
    },
    {
      "cell_type": "code",
      "source": [
        "df = pd.read_csv(file_path)\n",
        "print(df)"
      ],
      "metadata": {
        "colab": {
          "base_uri": "https://localhost:8080/"
        },
        "id": "WKYfyO3PYpSJ",
        "outputId": "03a5fedd-546b-4fe2-824e-dadd061aae8d"
      },
      "execution_count": null,
      "outputs": [
        {
          "output_type": "stream",
          "name": "stdout",
          "text": [
            "     Unnamed: 0  index     timestamp  latency__desc  eeg.counter  \\\n",
            "0          9532   9547  1.675328e+09      37.152937        117.0   \n",
            "1          9533   9548  1.675328e+09      37.156835        118.0   \n",
            "2          9534   9549  1.675328e+09      37.160733        119.0   \n",
            "3          9535   9550  1.675328e+09      37.164531        120.0   \n",
            "4          9536   9551  1.675328e+09      37.168429        121.0   \n",
            "..          ...    ...           ...            ...          ...   \n",
            "766       10298  10313  1.675328e+09      40.138421        115.0   \n",
            "767       10299  10314  1.675328e+09      40.142319        116.0   \n",
            "768       10300  10315  1.675328e+09      40.146217        117.0   \n",
            "769       10301  10316  1.675328e+09      40.150114        118.0   \n",
            "770       10302  10317  1.675328e+09      40.153912        119.0   \n",
            "\n",
            "     eeg.interpolated   eeg.af3     eeg.f7    eeg.f3   eeg.fc5  ...  \\\n",
            "0                 0.0 -2.940381  -0.894333 -0.120175 -2.586478  ...   \n",
            "1                 0.0 -3.724105  -0.587485  0.345896 -2.062045  ...   \n",
            "2                 0.0 -2.604452   2.970053 -0.352947 -3.207927  ...   \n",
            "3                 0.0 -1.347270   7.711648 -1.862746 -5.147344  ...   \n",
            "4                 0.0 -0.708435  12.593643 -2.005465 -4.695330  ...   \n",
            "..                ...       ...        ...       ...       ...  ...   \n",
            "766               0.0  1.562502   3.013761  2.095120 -5.848268  ...   \n",
            "767               0.0  1.365570   3.171963  2.161731 -8.272187  ...   \n",
            "768               0.0  1.723534   4.375271  1.765548 -9.933801  ...   \n",
            "769               0.0  2.675852   6.268733  1.611755 -9.791306  ...   \n",
            "770               0.0  4.229838   7.469943  1.972266 -7.373824  ...   \n",
            "\n",
            "     sq.t8.signalquality  sq.t8.rms  sq.fc6.signalquality  sq.fc6.rms  \\\n",
            "0                    NaN        NaN                   NaN         NaN   \n",
            "1                    NaN        NaN                   NaN         NaN   \n",
            "2                    NaN        NaN                   NaN         NaN   \n",
            "3                    NaN        NaN                   NaN         NaN   \n",
            "4                    NaN        NaN                   NaN         NaN   \n",
            "..                   ...        ...                   ...         ...   \n",
            "766                  NaN        NaN                   NaN         NaN   \n",
            "767                  NaN        NaN                   NaN         NaN   \n",
            "768                  NaN        NaN                   NaN         NaN   \n",
            "769                  NaN        NaN                   NaN         NaN   \n",
            "770                  NaN        NaN                   NaN         NaN   \n",
            "\n",
            "     sq.f4.signalquality  sq.f4.rms  sq.f8.signalquality  sq.f8.rms  \\\n",
            "0                    NaN        NaN                  NaN        NaN   \n",
            "1                    NaN        NaN                  NaN        NaN   \n",
            "2                    NaN        NaN                  NaN        NaN   \n",
            "3                    NaN        NaN                  NaN        NaN   \n",
            "4                    NaN        NaN                  NaN        NaN   \n",
            "..                   ...        ...                  ...        ...   \n",
            "766                  NaN        NaN                  NaN        NaN   \n",
            "767                  NaN        NaN                  NaN        NaN   \n",
            "768                  NaN        NaN                  NaN        NaN   \n",
            "769                  NaN        NaN                  NaN        NaN   \n",
            "770                  NaN        NaN                  NaN        NaN   \n",
            "\n",
            "     sq.af4.signalquality  sq.af4.rms  \n",
            "0                     NaN         NaN  \n",
            "1                     NaN         NaN  \n",
            "2                     NaN         NaN  \n",
            "3                     NaN         NaN  \n",
            "4                     NaN         NaN  \n",
            "..                    ...         ...  \n",
            "766                   NaN         NaN  \n",
            "767                   NaN         NaN  \n",
            "768                   NaN         NaN  \n",
            "769                   NaN         NaN  \n",
            "770                   NaN         NaN  \n",
            "\n",
            "[771 rows x 76 columns]\n"
          ]
        }
      ]
    },
    {
      "cell_type": "code",
      "source": [
        "count = 0\n",
        "result = {}"
      ],
      "metadata": {
        "id": "oH_JoHNzZIk5"
      },
      "execution_count": null,
      "outputs": []
    },
    {
      "cell_type": "code",
      "source": [
        "# for (columnName, columnData) in df.items():\n",
        "X = df.iloc[:130, [6,7,8,9,10,11,12,13,14,15,16,17,18,19]]\n",
        "# print(X)\n",
        "# print(len(X))\n",
        "pca = PCA(n_components = 14)\n",
        "Y = pca.fit(X)\n",
        "pca_data = pca.fit_transform(X)\n",
        "pca_data = filter_data(pca_data, sfreq=256, l_freq = 0.5, h_freq = 40)\n",
        "result = pca_data"
      ],
      "metadata": {
        "colab": {
          "base_uri": "https://localhost:8080/"
        },
        "id": "alPhHAFCYxjZ",
        "outputId": "40793aaf-be38-46e8-9761-36ebc82df99c"
      },
      "execution_count": null,
      "outputs": [
        {
          "output_type": "stream",
          "name": "stdout",
          "text": [
            "Setting up band-pass filter from 0.5 - 40 Hz\n",
            "\n",
            "FIR filter parameters\n",
            "---------------------\n",
            "Designing a one-pass, zero-phase, non-causal bandpass filter:\n",
            "- Windowed time-domain design (firwin) method\n",
            "- Hamming window with 0.0194 passband ripple and 53 dB stopband attenuation\n",
            "- Lower passband edge: 0.50\n",
            "- Lower transition bandwidth: 0.50 Hz (-6 dB cutoff frequency: 0.25 Hz)\n",
            "- Upper passband edge: 40.00 Hz\n",
            "- Upper transition bandwidth: 10.00 Hz (-6 dB cutoff frequency: 45.00 Hz)\n",
            "- Filter length: 1691 samples (6.605 s)\n",
            "\n"
          ]
        },
        {
          "output_type": "stream",
          "name": "stderr",
          "text": [
            "<ipython-input-8-921b64bef6be>:8: RuntimeWarning: filter_length (1691) is longer than the signal (14), distortion is likely. Reduce filter length or filter a longer signal.\n",
            "  pca_data = filter_data(pca_data, sfreq=256, l_freq = 0.5, h_freq = 40)\n",
            "[Parallel(n_jobs=1)]: Done  17 tasks      | elapsed:    0.0s\n",
            "[Parallel(n_jobs=1)]: Done  71 tasks      | elapsed:    0.0s\n"
          ]
        }
      ]
    },
    {
      "cell_type": "code",
      "source": [
        "print(result)\n",
        "# print(result.shape)"
      ],
      "metadata": {
        "colab": {
          "base_uri": "https://localhost:8080/"
        },
        "id": "uoPqRoZDNUk4",
        "outputId": "5f6f78c4-5637-4b33-d659-455d332f596c"
      },
      "execution_count": null,
      "outputs": [
        {
          "output_type": "stream",
          "name": "stdout",
          "text": [
            "[[  3.03309689  -7.92649451 -12.53323339 ...   2.83162028   3.26348156\n",
            "    1.86822148]\n",
            " [  1.82526668  -9.32852971 -13.6364705  ...   3.09557935   4.16245129\n",
            "    3.14094243]\n",
            " [  2.12849258  -9.40025302 -14.04113723 ...   2.47230016   3.37621364\n",
            "    2.10029887]\n",
            " ...\n",
            " [-16.43671371  -4.02128302   4.05021607 ...  -0.27513271   1.08620575\n",
            "    3.25711855]\n",
            " [-14.38868973  -4.16149722   2.53771746 ...  -1.11521377   1.35313383\n",
            "    5.05290183]\n",
            " [-12.29134478  -3.7810916    1.77146123 ...  -1.33935224   0.79098122\n",
            "    4.2827477 ]]\n"
          ]
        }
      ]
    },
    {
      "cell_type": "code",
      "source": [
        "power_o1 = []\n",
        "power_o2 = []\n",
        "power_af3 = []\n",
        "power_f7 = []\n",
        "power_f3 = []\n",
        "power_fc5 = []\n",
        "power_t7 = []\n",
        "power_p7 = []\n",
        "power_p8 = []\n",
        "power_t8 = []\n",
        "power_fc6 = []\n",
        "power_f4 = []\n",
        "power_f8 = []\n",
        "power_af4 = []"
      ],
      "metadata": {
        "id": "itBN6xswg55k"
      },
      "execution_count": null,
      "outputs": []
    },
    {
      "cell_type": "code",
      "source": [
        "for y in result:\n",
        "  count = 0\n",
        "  for z in y:\n",
        "      if count == 0:\n",
        "        power_af3.append(z)\n",
        "      if count == 1:\n",
        "        power_f7.append(z)\n",
        "      if count == 2:\n",
        "        power_f3.append(z)\n",
        "      if count == 3:\n",
        "        power_fc5.append(z)\n",
        "      if count == 4:\n",
        "        power_t7.append(z)\n",
        "      if count == 5:\n",
        "        power_p7.append(z)\n",
        "      if count == 6:\n",
        "        power_o1.append(z)\n",
        "      if count == 7:\n",
        "        power_o2.append(z)\n",
        "      if count == 8:\n",
        "        power_p8.append(z)\n",
        "      if count == 9:\n",
        "        power_t8.append(z)\n",
        "      if count == 10:\n",
        "        power_fc6.append(z)\n",
        "      if count == 11:\n",
        "        power_f4.append(z)\n",
        "      if count == 12:\n",
        "        power_f8.append(z)\n",
        "      if count == 13:\n",
        "        power_af4.append(z)\n",
        "      count = count + 1\n"
      ],
      "metadata": {
        "id": "WsjKPsOUg6Ax"
      },
      "execution_count": null,
      "outputs": []
    },
    {
      "cell_type": "code",
      "source": [
        "len(power_o1)"
      ],
      "metadata": {
        "colab": {
          "base_uri": "https://localhost:8080/"
        },
        "id": "0grXb6GRj2_n",
        "outputId": "ce77a416-55a3-4751-9845-cb34d92a1397"
      },
      "execution_count": null,
      "outputs": [
        {
          "output_type": "execute_result",
          "data": {
            "text/plain": [
              "130"
            ]
          },
          "metadata": {},
          "execution_count": 12
        }
      ]
    },
    {
      "cell_type": "code",
      "source": [
        "from scipy import signal\n",
        "sf = 256\n",
        "freqs_af3, psd_af3 = signal.welch(power_af3, sf, nperseg=130)\n",
        "freqs_f7, psd_f7 = signal.welch(power_f7, sf, nperseg=130)\n",
        "freqs_f3, psd_f3 = signal.welch(power_f3, sf, nperseg=130)\n",
        "freqs_fc5, psd_fc5 = signal.welch(power_fc5, sf, nperseg=130)\n",
        "freqs_t7, psd_t7 = signal.welch(power_t7, sf, nperseg=130)\n",
        "freqs_p7, psd_p7 = signal.welch(power_p7, sf, nperseg=130)\n",
        "freqs_o1, psd_o1 = signal.welch(power_o1, sf, nperseg=130)\n",
        "freqs_o2, psd_o2 = signal.welch(power_o2, sf, nperseg=130)\n",
        "freqs_p8, psd_p8 = signal.welch(power_p8, sf, nperseg=130)\n",
        "freqs_t8, psd_t8 = signal.welch(power_t8, sf, nperseg=130)\n",
        "freqs_fc6, psd_fc6 = signal.welch(power_fc6, sf, nperseg=130)\n",
        "freqs_f4, psd_f4 = signal.welch(power_f4, sf, nperseg=130)\n",
        "freqs_f8, psd_f8 = signal.welch(power_f8, sf, nperseg=130)\n",
        "freqs_af4, psd_af4 = signal.welch(power_af4, sf, nperseg=130)"
      ],
      "metadata": {
        "id": "CVT_GO27VhrJ"
      },
      "execution_count": null,
      "outputs": []
    },
    {
      "cell_type": "code",
      "source": [
        "print(psd_af3)\n",
        "psd = []"
      ],
      "metadata": {
        "id": "YGAe8Ur7qp-o",
        "colab": {
          "base_uri": "https://localhost:8080/"
        },
        "outputId": "99d55b07-2c97-4f85-b9bb-56f132c6ec29"
      },
      "execution_count": null,
      "outputs": [
        {
          "output_type": "stream",
          "name": "stdout",
          "text": [
            "[1.15565221e+01 2.80114274e+02 2.52390116e+02 7.13804768e+01\n",
            " 7.87845934e+00 4.66051843e-01 6.93276112e+00 9.62227010e+00\n",
            " 2.36883166e+00 9.96130012e-01 1.37873492e+00 2.22994194e+00\n",
            " 1.22960004e+00 1.70639934e-01 6.83086670e-01 1.46490936e+00\n",
            " 1.65654988e+00 4.06570481e-01 3.86443159e-02 5.38174042e-01\n",
            " 8.85174699e-01 2.06213562e-01 4.51429267e-03 1.00969085e-02\n",
            " 9.95255194e-04 2.36159153e-03 8.79528829e-04 7.28127551e-04\n",
            " 2.85780609e-04 2.42829451e-03 9.09610003e-04 2.88044252e-04\n",
            " 3.19405268e-04 6.68422424e-05 2.90797573e-04 3.30696531e-04\n",
            " 5.75615876e-05 3.16227691e-04 1.08179353e-04 2.83559370e-05\n",
            " 4.19302497e-05 2.81211611e-05 3.50737640e-06 5.27165552e-05\n",
            " 6.97970549e-05 1.31297012e-04 2.10544789e-04 4.71613805e-05\n",
            " 4.83826074e-06 1.02105587e-05 9.34012673e-05 5.75608028e-05\n",
            " 3.63877356e-05 1.13223890e-06 9.61736338e-05 4.35760500e-05\n",
            " 3.97487035e-05 6.68394276e-05 9.95221683e-06 1.89552035e-04\n",
            " 7.32558816e-05 2.90390081e-05 1.20822496e-04 4.96773732e-05\n",
            " 3.77123307e-05 1.70971593e-05]\n"
          ]
        }
      ]
    },
    {
      "cell_type": "code",
      "source": [
        "psd.append(psd_af3)\n",
        "psd.append(psd_f7)\n",
        "psd.append(psd_f3)\n",
        "psd.append(psd_fc5)\n",
        "psd.append(psd_t7)\n",
        "psd.append(psd_p7)\n",
        "psd.append(psd_o1)\n",
        "psd.append(psd_o2)\n",
        "psd.append(psd_p8)\n",
        "psd.append(psd_t8)\n",
        "psd.append(psd_fc6)\n",
        "psd.append(psd_f4)\n",
        "psd.append(psd_f8)\n",
        "psd.append(psd_af4)"
      ],
      "metadata": {
        "id": "BOA3YQh61Ts5"
      },
      "execution_count": null,
      "outputs": []
    },
    {
      "cell_type": "code",
      "source": [
        "psd"
      ],
      "metadata": {
        "colab": {
          "base_uri": "https://localhost:8080/"
        },
        "id": "G-MZammT6sNQ",
        "outputId": "e45f250b-a24f-4187-c6a8-d25d4e829b43"
      },
      "execution_count": null,
      "outputs": [
        {
          "output_type": "execute_result",
          "data": {
            "text/plain": [
              "[array([1.15565221e+01, 2.80114274e+02, 2.52390116e+02, 7.13804768e+01,\n",
              "        7.87845934e+00, 4.66051843e-01, 6.93276112e+00, 9.62227010e+00,\n",
              "        2.36883166e+00, 9.96130012e-01, 1.37873492e+00, 2.22994194e+00,\n",
              "        1.22960004e+00, 1.70639934e-01, 6.83086670e-01, 1.46490936e+00,\n",
              "        1.65654988e+00, 4.06570481e-01, 3.86443159e-02, 5.38174042e-01,\n",
              "        8.85174699e-01, 2.06213562e-01, 4.51429267e-03, 1.00969085e-02,\n",
              "        9.95255194e-04, 2.36159153e-03, 8.79528829e-04, 7.28127551e-04,\n",
              "        2.85780609e-04, 2.42829451e-03, 9.09610003e-04, 2.88044252e-04,\n",
              "        3.19405268e-04, 6.68422424e-05, 2.90797573e-04, 3.30696531e-04,\n",
              "        5.75615876e-05, 3.16227691e-04, 1.08179353e-04, 2.83559370e-05,\n",
              "        4.19302497e-05, 2.81211611e-05, 3.50737640e-06, 5.27165552e-05,\n",
              "        6.97970549e-05, 1.31297012e-04, 2.10544789e-04, 4.71613805e-05,\n",
              "        4.83826074e-06, 1.02105587e-05, 9.34012673e-05, 5.75608028e-05,\n",
              "        3.63877356e-05, 1.13223890e-06, 9.61736338e-05, 4.35760500e-05,\n",
              "        3.97487035e-05, 6.68394276e-05, 9.95221683e-06, 1.89552035e-04,\n",
              "        7.32558816e-05, 2.90390081e-05, 1.20822496e-04, 4.96773732e-05,\n",
              "        3.77123307e-05, 1.70971593e-05]),\n",
              " array([2.63364581e+00, 3.49649565e+01, 4.71465782e+01, 1.67070405e+01,\n",
              "        2.38896607e+00, 7.57398592e-01, 5.09654427e-01, 2.43487461e+00,\n",
              "        6.69582197e-01, 8.73642113e-01, 4.72844097e-01, 3.88416535e-02,\n",
              "        7.26097934e-02, 1.86799752e-01, 2.51370076e-01, 1.11916657e-01,\n",
              "        8.20373334e-02, 1.47651957e-02, 6.86742693e-03, 8.51742385e-02,\n",
              "        1.10708895e-01, 2.62264007e-02, 2.93430675e-03, 1.58159640e-04,\n",
              "        2.74429555e-04, 2.55029654e-05, 1.96700656e-04, 4.04899482e-04,\n",
              "        2.53740451e-04, 8.71733266e-06, 3.74373013e-05, 5.27116179e-05,\n",
              "        7.92103005e-05, 4.60499615e-05, 1.13638838e-05, 1.78114817e-05,\n",
              "        2.70257460e-06, 8.41628435e-06, 1.57005916e-05, 4.86908394e-06,\n",
              "        3.77380498e-07, 3.08310184e-06, 6.17208677e-06, 7.50982701e-06,\n",
              "        1.11076897e-05, 1.65673859e-05, 4.49731552e-06, 1.62162206e-06,\n",
              "        6.54090579e-07, 1.97425121e-06, 3.61868362e-06, 3.52735514e-06,\n",
              "        1.00103395e-05, 6.64637314e-06, 5.03612199e-06, 1.40979190e-06,\n",
              "        5.42360572e-06, 3.38062339e-06, 1.79793440e-06, 1.40842153e-06,\n",
              "        7.26782705e-06, 5.70862478e-06, 7.98813233e-08, 6.95821011e-06,\n",
              "        5.50042147e-06, 7.04180737e-07]),\n",
              " array([3.68512453e-02, 3.07688495e+00, 6.84665538e-02, 1.58551282e+00,\n",
              "        9.73387112e-01, 2.10417022e+00, 1.67415928e+00, 1.15631300e+00,\n",
              "        2.75971416e-01, 7.25515281e-01, 1.08256838e+00, 2.91943913e-01,\n",
              "        8.34117375e-02, 9.63493466e-02, 2.81670464e-01, 2.36411681e-01,\n",
              "        1.70962509e-01, 7.68087672e-02, 4.14576888e-02, 4.52757046e-02,\n",
              "        9.74184511e-02, 1.69919959e-03, 3.11067603e-03, 3.89192250e-03,\n",
              "        1.34778542e-04, 8.79198117e-04, 9.01416806e-04, 1.51416660e-03,\n",
              "        2.58045152e-04, 7.65502101e-04, 4.18231442e-04, 2.63372028e-04,\n",
              "        3.15851955e-04, 1.20282019e-04, 6.20821876e-05, 1.27068953e-04,\n",
              "        7.46254611e-07, 4.92784290e-05, 1.99870972e-06, 5.90340691e-06,\n",
              "        7.42241838e-06, 7.55241438e-06, 5.38954113e-06, 2.58126583e-05,\n",
              "        5.36055946e-05, 9.02314728e-05, 7.25934503e-05, 7.57511672e-06,\n",
              "        2.98177549e-06, 6.21736925e-06, 3.36550900e-05, 1.68820374e-05,\n",
              "        7.01556086e-06, 1.07117421e-05, 3.20441233e-05, 1.31182002e-05,\n",
              "        3.05481468e-07, 1.31638541e-05, 2.51968046e-06, 4.75914037e-05,\n",
              "        2.90888244e-05, 1.13942192e-05, 2.36207986e-05, 2.99544457e-05,\n",
              "        2.06787265e-05, 3.94607628e-06]),\n",
              " array([3.09321494e-01, 1.48540465e+01, 5.90906771e+00, 1.31183235e+00,\n",
              "        5.84254139e-01, 1.28500739e+00, 1.72958375e+00, 7.06537604e-01,\n",
              "        2.29402975e-01, 3.46323285e-01, 8.81137059e-01, 2.01083969e-01,\n",
              "        3.02225545e-02, 4.40920121e-04, 3.03063153e-01, 7.06548376e-01,\n",
              "        4.09391070e-01, 2.27114708e-01, 5.35790562e-02, 9.90521412e-02,\n",
              "        1.38723915e-01, 5.85778240e-03, 4.09526962e-03, 3.11270812e-03,\n",
              "        2.57941535e-04, 6.76506222e-04, 4.63781892e-04, 4.23843077e-04,\n",
              "        2.44516967e-04, 4.14260363e-04, 1.71614959e-04, 3.56699288e-05,\n",
              "        2.99920224e-05, 3.38842299e-05, 2.15278853e-05, 7.08676782e-07,\n",
              "        2.58262571e-06, 6.01483170e-06, 8.33360006e-06, 1.92816667e-06,\n",
              "        2.28774792e-07, 1.82625297e-06, 1.33052124e-05, 1.77512373e-05,\n",
              "        1.73125561e-05, 1.15083668e-05, 1.99346258e-06, 3.58225453e-06,\n",
              "        1.15783103e-06, 1.39088070e-06, 5.75193560e-07, 2.18312332e-06,\n",
              "        2.28304846e-06, 1.22163328e-06, 2.64964628e-07, 9.89646164e-07,\n",
              "        1.07477895e-06, 4.93352124e-07, 1.92425011e-07, 2.52441451e-06,\n",
              "        2.99216212e-06, 1.45169709e-06, 5.45323874e-07, 1.45373881e-07,\n",
              "        2.02649240e-06, 2.75011396e-06]),\n",
              " array([3.89785167e-01, 4.90974319e+00, 3.87011997e+00, 1.03642231e+00,\n",
              "        2.13816423e-01, 9.85102254e-02, 3.33418396e-01, 7.47128177e-02,\n",
              "        8.85756910e-02, 5.67711028e-02, 2.38623485e-01, 1.24496441e-01,\n",
              "        2.24425566e-01, 1.26068463e-01, 1.75600558e-01, 6.51527175e-01,\n",
              "        2.75209914e-01, 2.42063428e-01, 3.30942920e-02, 7.40036306e-02,\n",
              "        4.92991840e-02, 2.66313907e-02, 1.65998806e-02, 3.01634378e-03,\n",
              "        1.03780370e-03, 4.88876168e-04, 1.17707367e-03, 2.70426029e-04,\n",
              "        1.66360189e-04, 2.84766364e-05, 3.42375799e-05, 2.06189497e-04,\n",
              "        2.59570723e-04, 1.16730549e-04, 5.05237651e-04, 3.72426694e-04,\n",
              "        2.93495147e-05, 2.56510510e-04, 5.60520547e-05, 1.30677058e-06,\n",
              "        2.17718756e-05, 9.28575708e-06, 7.97360717e-05, 1.88302172e-04,\n",
              "        1.28175007e-04, 1.33075932e-04, 1.27342627e-04, 4.84304061e-05,\n",
              "        1.00858600e-06, 3.23230372e-05, 9.95685325e-05, 3.01243930e-05,\n",
              "        9.50131717e-06, 1.49613176e-05, 9.53536500e-05, 2.35663226e-05,\n",
              "        1.08219446e-05, 2.65122192e-05, 2.88400694e-06, 7.71426143e-05,\n",
              "        3.33395165e-05, 9.35799960e-06, 5.07400201e-05, 7.70623936e-05,\n",
              "        8.70944869e-05, 4.35469396e-05]),\n",
              " array([1.09639293e-01, 6.90737725e-01, 9.16097249e-01, 8.20034441e-01,\n",
              "        1.37618315e-01, 1.74221424e-01, 2.02426098e-01, 1.10508659e-01,\n",
              "        6.81803993e-03, 1.03307441e-03, 5.93153754e-02, 4.65928757e-01,\n",
              "        6.41626084e-01, 3.69220805e-01, 1.16204330e-01, 2.52834015e-01,\n",
              "        1.57546997e-01, 1.38502473e-01, 1.02589374e-02, 3.36140426e-02,\n",
              "        4.85817097e-02, 7.54322117e-02, 3.68282819e-02, 9.77507619e-03,\n",
              "        1.96705026e-03, 1.43707000e-03, 2.37253738e-03, 1.08672913e-03,\n",
              "        8.47000456e-05, 5.61841026e-04, 2.97738893e-04, 5.38650795e-04,\n",
              "        7.03526021e-04, 2.55815118e-04, 7.79839071e-04, 6.86779864e-04,\n",
              "        4.33218934e-05, 4.50355467e-04, 7.15553605e-05, 6.99656676e-06,\n",
              "        5.17195058e-05, 2.86279156e-05, 1.04497471e-04, 2.91167554e-04,\n",
              "        2.20606764e-04, 2.72310972e-04, 2.95217668e-04, 8.75514999e-05,\n",
              "        4.01990575e-06, 5.71117552e-05, 2.03294380e-04, 7.45974479e-05,\n",
              "        1.94212566e-05, 2.98331320e-05, 1.85596273e-04, 4.87804110e-05,\n",
              "        1.54215490e-05, 6.10409507e-05, 8.18496181e-06, 1.89592458e-04,\n",
              "        8.21999678e-05, 2.43649987e-05, 1.13179937e-04, 1.52752511e-04,\n",
              "        1.59646358e-04, 6.31474601e-05]),\n",
              " array([2.88798658e-03, 9.30885249e-01, 3.63542348e-01, 5.10684917e-01,\n",
              "        1.05030067e-01, 2.33029165e-01, 2.67490291e-01, 1.20956178e-01,\n",
              "        2.05992684e-02, 8.53531607e-03, 2.25839362e-02, 2.78777039e-01,\n",
              "        4.56662416e-01, 3.99268108e-01, 2.16782128e-01, 2.15728451e-02,\n",
              "        1.15945662e-01, 3.03095730e-02, 9.15980861e-03, 5.26425424e-02,\n",
              "        1.23029991e-01, 9.90060973e-02, 4.16192797e-02, 1.23452334e-02,\n",
              "        1.69593846e-03, 1.53206925e-03, 1.34120453e-03, 3.29061175e-04,\n",
              "        1.65112009e-04, 4.43352992e-04, 1.23741997e-04, 2.00679412e-04,\n",
              "        2.90075185e-04, 1.16591941e-04, 2.00662702e-04, 1.88538350e-04,\n",
              "        1.10579497e-05, 1.37993772e-04, 1.59049216e-05, 6.11121219e-06,\n",
              "        3.16410815e-05, 2.16773587e-05, 3.23226989e-05, 9.74676500e-05,\n",
              "        6.65900973e-05, 8.12189295e-05, 1.15825517e-04, 3.95460298e-05,\n",
              "        3.11341577e-06, 2.33410108e-05, 8.19892165e-05, 4.02833909e-05,\n",
              "        9.99000543e-06, 1.33928632e-05, 6.55115233e-05, 1.60538307e-05,\n",
              "        4.50000191e-06, 2.43437896e-05, 5.20849738e-06, 7.63498463e-05,\n",
              "        3.08590483e-05, 9.38649881e-06, 4.01906355e-05, 5.32926049e-05,\n",
              "        6.11287563e-05, 1.59292356e-05]),\n",
              " array([8.36205695e-04, 2.21531996e-01, 1.69049536e-01, 1.28576400e-01,\n",
              "        1.32954673e-02, 7.35979823e-02, 1.67648256e-02, 5.54232424e-02,\n",
              "        4.31620095e-02, 6.54082413e-02, 4.85597199e-02, 1.13350897e-03,\n",
              "        6.73966258e-02, 2.09299597e-01, 2.93196379e-01, 8.78624903e-03,\n",
              "        4.40901165e-02, 4.83224746e-04, 4.13120989e-02, 9.53429678e-02,\n",
              "        1.22916146e-01, 7.56523911e-02, 2.74853504e-02, 7.58616260e-03,\n",
              "        6.17521619e-04, 7.54247178e-04, 2.14939178e-04, 1.31766520e-04,\n",
              "        3.41477727e-04, 1.64130947e-04, 3.35278350e-05, 1.40906980e-05,\n",
              "        1.13458220e-05, 1.23819539e-05, 5.56826076e-05, 5.38198744e-05,\n",
              "        4.61142103e-06, 2.38777407e-05, 1.31233501e-05, 5.85524905e-06,\n",
              "        1.54377464e-05, 4.31611003e-06, 3.60991103e-06, 7.15860365e-06,\n",
              "        9.64112515e-06, 2.12434674e-05, 8.41611127e-06, 1.80934251e-06,\n",
              "        1.54846706e-06, 4.44916746e-07, 2.87631198e-06, 1.44015109e-06,\n",
              "        1.60036770e-06, 5.76267685e-06, 1.26645795e-05, 1.27674214e-05,\n",
              "        3.53414046e-06, 9.57599593e-07, 1.20448850e-06, 3.14216660e-06,\n",
              "        2.35335533e-06, 3.61934029e-07, 2.80991709e-06, 3.78612729e-06,\n",
              "        1.42467239e-06, 3.98094704e-06]),\n",
              " array([5.84785587e-04, 3.68209534e+00, 2.02584077e+00, 3.98553409e-01,\n",
              "        9.78614708e-03, 2.53497637e-01, 1.80154488e-01, 2.32596489e-01,\n",
              "        4.07451360e-02, 1.58350749e-01, 2.15861166e-01, 2.24222905e-01,\n",
              "        1.36449875e-01, 5.94078806e-02, 1.93316331e-01, 1.42953405e-02,\n",
              "        1.33916555e-02, 1.58762202e-02, 5.91542373e-02, 6.95764297e-02,\n",
              "        4.49904523e-02, 3.39210338e-02, 1.44744143e-02, 3.47540334e-03,\n",
              "        2.19247290e-04, 3.51615279e-04, 2.51251152e-04, 5.64625495e-04,\n",
              "        3.10429633e-04, 3.70777062e-04, 2.62605546e-04, 1.61601626e-04,\n",
              "        1.71289604e-04, 6.40432336e-05, 2.87816362e-04, 2.93954369e-04,\n",
              "        1.67619651e-05, 1.48688373e-04, 4.02776572e-05, 4.92544446e-06,\n",
              "        1.82340438e-05, 8.21169598e-07, 2.41445419e-05, 5.33457609e-05,\n",
              "        6.30701698e-05, 1.11936851e-04, 6.54456745e-05, 4.93141384e-06,\n",
              "        1.46652472e-06, 7.25119636e-06, 3.46090782e-05, 3.17345014e-06,\n",
              "        2.48087308e-06, 8.29301308e-06, 5.41900522e-05, 2.86090355e-05,\n",
              "        5.66643069e-06, 1.07328944e-05, 7.31700405e-07, 4.38356012e-05,\n",
              "        2.82771592e-05, 5.07991295e-06, 2.59024218e-05, 4.69868994e-05,\n",
              "        3.16154187e-05, 2.11919529e-05]),\n",
              " array([6.73287752e-03, 4.10324471e+00, 2.19246548e+00, 3.33127656e-01,\n",
              "        2.48442868e-02, 2.25306526e-01, 2.44078609e-01, 1.91966518e-01,\n",
              "        1.73126759e-02, 1.38567362e-01, 1.99192461e-01, 2.70556888e-01,\n",
              "        2.18276003e-01, 2.37220763e-02, 4.18221568e-02, 3.71412311e-04,\n",
              "        1.71284166e-02, 1.20824401e-02, 2.55730634e-02, 7.13371358e-03,\n",
              "        5.52769286e-05, 4.85922028e-03, 1.10669041e-02, 4.18802498e-03,\n",
              "        3.53086984e-04, 1.31864077e-04, 2.85656071e-04, 1.31749659e-04,\n",
              "        1.16426359e-04, 2.39898706e-04, 1.39279976e-04, 1.24532363e-05,\n",
              "        2.23368123e-05, 1.47524755e-05, 2.49265626e-05, 3.45404002e-05,\n",
              "        1.01133725e-06, 1.53429106e-05, 7.80775290e-06, 1.23977707e-07,\n",
              "        2.80670297e-06, 2.96074747e-07, 1.04812254e-05, 7.16271270e-06,\n",
              "        2.03058989e-06, 1.08768048e-05, 8.81405763e-06, 1.51551481e-06,\n",
              "        3.59567144e-07, 1.15432372e-06, 3.72700997e-06, 1.70252011e-06,\n",
              "        2.69398481e-06, 1.06610326e-06, 2.23258610e-06, 1.37568016e-06,\n",
              "        1.06970761e-07, 5.97718439e-09, 1.41314806e-07, 2.67302756e-06,\n",
              "        6.61359365e-06, 7.91215124e-07, 6.34372565e-06, 1.31982038e-05,\n",
              "        4.13205822e-06, 1.80616156e-06]),\n",
              " array([1.13044386e-02, 9.40410069e-01, 5.73379058e-01, 6.12206564e-02,\n",
              "        8.59239120e-03, 1.48120961e-02, 4.42171576e-02, 2.76752412e-02,\n",
              "        9.28445045e-03, 4.43889778e-02, 4.36266059e-02, 4.98115942e-02,\n",
              "        7.52869252e-02, 1.98246913e-02, 5.60311265e-03, 1.54593832e-02,\n",
              "        6.48510329e-03, 3.24122454e-03, 1.97668576e-04, 2.69540385e-02,\n",
              "        4.14005095e-02, 4.64047166e-03, 9.82906340e-03, 8.89581365e-03,\n",
              "        1.88074878e-04, 1.03510921e-04, 1.70975923e-03, 1.47135449e-03,\n",
              "        2.47246110e-05, 4.53693363e-04, 1.88512039e-04, 3.00388250e-04,\n",
              "        3.53009554e-04, 4.73031231e-05, 3.43348737e-04, 2.70360876e-04,\n",
              "        2.22772263e-05, 1.63648928e-04, 2.01608980e-05, 1.22213888e-05,\n",
              "        1.62206360e-05, 7.71913185e-06, 3.76058973e-05, 1.38778435e-04,\n",
              "        1.07250713e-04, 1.28787318e-04, 1.77088963e-04, 5.04671908e-05,\n",
              "        2.62349927e-06, 2.07049292e-05, 9.10625935e-05, 4.19682789e-05,\n",
              "        2.05238332e-05, 2.93224178e-05, 9.05643046e-05, 3.75776479e-05,\n",
              "        1.83311327e-05, 3.62926352e-05, 4.11320967e-06, 7.70967635e-05,\n",
              "        2.22494387e-05, 2.05580527e-05, 1.02768417e-04, 6.01612709e-05,\n",
              "        3.49255255e-05, 2.23303440e-05]),\n",
              " array([2.19971098e-02, 6.43119541e-02, 1.58562281e-01, 1.66795574e-01,\n",
              "        8.23695983e-03, 4.29092054e-02, 4.54694860e-03, 4.65672424e-02,\n",
              "        1.22138959e-02, 7.10622001e-03, 2.03083227e-04, 6.58348926e-03,\n",
              "        9.61065930e-03, 3.29773690e-02, 3.14073329e-02, 2.74207177e-02,\n",
              "        2.29248128e-03, 6.51022359e-03, 1.67235797e-02, 6.97331150e-02,\n",
              "        6.43661963e-02, 1.48750859e-02, 4.39160828e-03, 8.50518349e-03,\n",
              "        2.34176897e-04, 3.25613197e-04, 2.78780790e-03, 2.57436191e-03,\n",
              "        2.06081860e-05, 1.13296039e-03, 5.38342489e-04, 7.77104639e-04,\n",
              "        8.00942019e-04, 1.47868028e-04, 8.49404039e-04, 7.00466154e-04,\n",
              "        4.83197399e-05, 3.96149256e-04, 5.96949189e-05, 2.41010172e-05,\n",
              "        3.40562671e-05, 1.39076352e-05, 5.49952220e-05, 2.36401780e-04,\n",
              "        2.09647282e-04, 2.96128043e-04, 3.30600808e-04, 7.99245644e-05,\n",
              "        3.49669048e-06, 4.15085368e-05, 1.83978313e-04, 7.90487707e-05,\n",
              "        3.81935702e-05, 5.72310214e-05, 2.06675843e-04, 8.93363660e-05,\n",
              "        3.06475881e-05, 6.45244096e-05, 6.36582765e-06, 1.66844854e-04,\n",
              "        5.80503248e-05, 3.80203394e-05, 1.86321194e-04, 1.43795079e-04,\n",
              "        8.33054000e-05, 5.41892430e-05]),\n",
              " array([5.08873752e-02, 1.85670152e-01, 3.51296421e-01, 2.02047269e-01,\n",
              "        1.41259342e-02, 2.29197869e-02, 6.09835427e-03, 3.07195809e-02,\n",
              "        1.35361755e-03, 2.54936798e-03, 5.92015736e-04, 2.23739321e-02,\n",
              "        3.18501946e-02, 7.02415069e-02, 2.38653930e-02, 9.88485797e-03,\n",
              "        1.61280484e-02, 3.59279370e-03, 2.64953138e-02, 2.97320238e-02,\n",
              "        1.10614934e-02, 9.89491060e-03, 3.26151503e-03, 1.57808839e-03,\n",
              "        1.51111793e-03, 1.30301633e-03, 6.34569836e-04, 3.33999540e-04,\n",
              "        5.42656462e-04, 7.37704422e-04, 2.75317750e-04, 2.36884030e-04,\n",
              "        1.40552021e-04, 2.76358608e-05, 1.41616703e-04, 8.47037332e-05,\n",
              "        4.65148914e-06, 4.03472529e-05, 9.99390721e-06, 9.00174231e-06,\n",
              "        3.25051987e-06, 1.60136468e-06, 1.20612922e-07, 7.24516706e-06,\n",
              "        6.92343529e-06, 2.26569288e-05, 2.67066259e-05, 5.70855000e-06,\n",
              "        3.51801198e-07, 4.56169689e-06, 2.19767881e-05, 1.94368056e-05,\n",
              "        1.57384503e-05, 1.45787668e-05, 3.12517641e-05, 1.75021935e-05,\n",
              "        3.94080022e-06, 4.65688503e-06, 8.52335834e-07, 1.24977394e-05,\n",
              "        4.02088000e-06, 5.44715839e-06, 2.93525735e-05, 2.62103182e-05,\n",
              "        2.68298015e-06, 6.30380837e-06]),\n",
              " array([6.87946589e-02, 1.27346551e+00, 1.14424851e+00, 3.59624309e-01,\n",
              "        1.09799049e-02, 4.39544004e-02, 5.32583457e-02, 4.33386484e-02,\n",
              "        1.56313211e-02, 5.63631115e-03, 2.18743032e-02, 5.59099973e-02,\n",
              "        1.08995342e-01, 1.14880221e-01, 2.51766170e-02, 2.54394271e-02,\n",
              "        5.30145625e-02, 7.48253092e-03, 2.70391540e-02, 3.96651575e-02,\n",
              "        3.56912745e-02, 2.06901189e-03, 2.93000529e-02, 1.07844325e-02,\n",
              "        4.44229177e-03, 5.04244707e-03, 1.51930043e-03, 3.22110725e-03,\n",
              "        2.61808331e-03, 1.03579875e-04, 1.59575666e-04, 2.35004442e-04,\n",
              "        6.37627105e-04, 1.80418619e-04, 7.48203373e-04, 8.66595582e-04,\n",
              "        6.31628074e-05, 5.34557128e-04, 6.93500307e-05, 2.20133117e-05,\n",
              "        7.84393317e-05, 2.11380033e-05, 2.10502744e-04, 5.34229405e-04,\n",
              "        4.66684456e-04, 4.74437882e-04, 4.82318532e-04, 1.10415739e-04,\n",
              "        1.86509935e-05, 4.93149666e-05, 2.20802655e-04, 4.17619930e-05,\n",
              "        1.92650328e-06, 2.32806983e-05, 1.98404103e-04, 6.54159889e-05,\n",
              "        4.72068085e-05, 1.26282291e-04, 1.35827382e-05, 2.70277752e-04,\n",
              "        1.04061864e-04, 3.40557876e-05, 1.53257538e-04, 1.17904445e-04,\n",
              "        1.99516982e-04, 6.51363158e-05])]"
            ]
          },
          "metadata": {},
          "execution_count": 16
        }
      ]
    }
  ]
}